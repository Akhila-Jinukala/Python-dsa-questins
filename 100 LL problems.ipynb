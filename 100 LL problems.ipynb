{
  "cells": [
    {
      "cell_type": "code",
      "execution_count": null,
      "id": "cc1466d1-b5e4-4a65-b79c-d75aa73ebfba",
      "metadata": {
        "trusted": true
      },
      "outputs": [],
      "source": [
        "\n",
        "# ------------------------ 100 Linear DSA Placement Problems-------------------------\n",
        "# J. AKHILA 22X31A6223 CS"
      ]
    },
    {
      "cell_type": "code",
      "execution_count": null,
      "id": "82650edd-51fc-4a47-af40-ebcd04ed6dec",
      "metadata": {
        "trusted": true
      },
      "outputs": [],
      "source": [
        "\n",
        "# ------------------------25 Problems on Lists (Arrays)----------------------------\n"
      ]
    },
    {
      "cell_type": "code",
      "execution_count": 2,
      "id": "90831a5d-8e65-4098-9a84-304c4de78833",
      "metadata": {
        "trusted": true
      },
      "outputs": [
        {
          "name": "stdout",
          "output_type": "stream",
          "text": [
            "45\n"
          ]
        }
      ],
      "source": [
        "\n",
        "# 1.\tFind the second largest element in an array.\n",
        "# Input: [10, 20, 4, 45, 99]\n",
        "# Output: 45\n",
        "\n",
        "def second_largest(arr):\n",
        "    first = second = float('-inf')\n",
        "    for num in arr:\n",
        "        if num > first:\n",
        "            second = first\n",
        "            first = num\n",
        "        elif first > num > second:\n",
        "            second = num\n",
        "    return second\n",
        "\n",
        "arr = [10, 20, 4, 45, 99]\n",
        "print(second_largest(arr))  \n"
      ]
    },
    {
      "cell_type": "code",
      "execution_count": 3,
      "id": "089d697c-65d8-4713-a8a3-b986d8efe984",
      "metadata": {
        "trusted": true
      },
      "outputs": [
        {
          "name": "stdout",
          "output_type": "stream",
          "text": [
            "[5, 4, 3, 2, 1]\n"
          ]
        }
      ],
      "source": [
        "\n",
        "# 2.\tReverse an array in-place.\n",
        "# Input: [1, 2, 3, 4, 5]\n",
        "# Output: [5, 4, 3, 2, 1]\n",
        "\n",
        "def reverse_array(arr):\n",
        "    left, right = 0, len(arr) - 1\n",
        "    while left < right:\n",
        "        arr[left], arr[right] = arr[right], arr[left]\n",
        "        left += 1\n",
        "        right -= 1\n",
        "    return arr\n",
        "\n",
        "arr = [1, 2, 3, 4, 5]\n",
        "print(reverse_array(arr)) \n"
      ]
    },
    {
      "cell_type": "code",
      "execution_count": 4,
      "id": "bfc17dd3-e0aa-4e40-97c1-d23eaa0ce3ca",
      "metadata": {
        "trusted": true
      },
      "outputs": [
        {
          "name": "stdout",
          "output_type": "stream",
          "text": [
            "True\n"
          ]
        }
      ],
      "source": [
        "\n",
        "# 3.\tCheck if an array is sorted (ascending).\n",
        "\n",
        "def is_sorted(arr):\n",
        "    return all(arr[i] <= arr[i+1] for i in range(len(arr)-1))\n",
        "\n",
        "arr = [1, 2, 3, 4, 5]\n",
        "print(is_sorted(arr)) \n"
      ]
    },
    {
      "cell_type": "code",
      "execution_count": 5,
      "id": "b000bbf1-c8f1-4490-bcfc-598be65da9f8",
      "metadata": {
        "trusted": true
      },
      "outputs": [
        {
          "name": "stdout",
          "output_type": "stream",
          "text": [
            "[4, 5, 1, 2, 3]\n"
          ]
        }
      ],
      "source": [
        "\n",
        "# 4.\tRotate array by k steps to the right.\n",
        "\n",
        "def rotate_right(arr, k):\n",
        "    n = len(arr)\n",
        "    k %= n\n",
        "    return arr[-k:] + arr[:-k]\n",
        "\n",
        "arr = [1, 2, 3, 4, 5]\n",
        "k = 2\n",
        "print(rotate_right(arr, k))  \n"
      ]
    },
    {
      "cell_type": "code",
      "execution_count": 6,
      "id": "1ce1ab67-d9f6-4378-8414-1105713a7b76",
      "metadata": {
        "trusted": true
      },
      "outputs": [
        {
          "name": "stdout",
          "output_type": "stream",
          "text": [
            "[1, 3, 12, 0, 0]\n"
          ]
        }
      ],
      "source": [
        "\n",
        "# 5.\tMove all zeros to the end of the array.\n",
        "\n",
        "def move_zeros(arr):\n",
        "    count = 0\n",
        "    for i in range(len(arr)):\n",
        "        if arr[i] != 0:\n",
        "            arr[count] = arr[i]\n",
        "            count += 1\n",
        "    while count < len(arr):\n",
        "        arr[count] = 0\n",
        "        count += 1\n",
        "    return arr\n",
        "\n",
        "arr = [0, 1, 0, 3, 12]\n",
        "print(move_zeros(arr))  \n"
      ]
    },
    {
      "cell_type": "code",
      "execution_count": 7,
      "id": "bf7ac55d-1149-47e6-a9d4-86f294b182e7",
      "metadata": {
        "trusted": true
      },
      "outputs": [
        {
          "name": "stdout",
          "output_type": "stream",
          "text": [
            "3\n"
          ]
        }
      ],
      "source": [
        "\n",
        "# 6.\tFind missing number in a sequence (1 to n).\n",
        "\n",
        "def find_missing(arr, n):\n",
        "    total = n * (n + 1) // 2\n",
        "    return total - sum(arr)\n",
        "\n",
        "arr = [1, 2, 4, 5, 6]\n",
        "n = 6\n",
        "print(find_missing(arr, n))  \n"
      ]
    },
    {
      "cell_type": "code",
      "execution_count": 8,
      "id": "ac8912f2-7a5c-4ce9-8c19-5bcdce5bafca",
      "metadata": {
        "trusted": true
      },
      "outputs": [
        {
          "name": "stdout",
          "output_type": "stream",
          "text": [
            "[1, 2]\n"
          ]
        }
      ],
      "source": [
        "\n",
        "# 7.\tFind duplicate elements in an array.\n",
        "\n",
        "def find_duplicates(arr):\n",
        "    seen = set()\n",
        "    duplicates = set()\n",
        "    for num in arr:\n",
        "        if num in seen:\n",
        "            duplicates.add(num)\n",
        "        else:\n",
        "            seen.add(num)\n",
        "    return list(duplicates)\n",
        "\n",
        "arr = [1, 2, 3, 2, 4, 5, 1]\n",
        "print(find_duplicates(arr))  \n"
      ]
    },
    {
      "cell_type": "code",
      "execution_count": 9,
      "id": "91d1f123-93ef-4042-a261-cd4d2a79ec99",
      "metadata": {
        "trusted": true
      },
      "outputs": [
        {
          "name": "stdout",
          "output_type": "stream",
          "text": [
            "[1, 2, 3, 4, 5, 6]\n"
          ]
        }
      ],
      "source": [
        "\n",
        "# 8.\tMerge two sorted arrays into one.\n",
        "\n",
        "def merge_sorted(arr1, arr2):\n",
        "    i = j = 0\n",
        "    merged = []\n",
        "    while i < len(arr1) and j < len(arr2):\n",
        "        if arr1[i] < arr2[j]:\n",
        "            merged.append(arr1[i])\n",
        "            i += 1\n",
        "        else:\n",
        "            merged.append(arr2[j])\n",
        "            j += 1\n",
        "    merged.extend(arr1[i:])\n",
        "    merged.extend(arr2[j:])\n",
        "    return merged\n",
        "\n",
        "arr1 = [1, 3, 5]\n",
        "arr2 = [2, 4, 6]\n",
        "print(merge_sorted(arr1, arr2)) \n"
      ]
    },
    {
      "cell_type": "code",
      "execution_count": 10,
      "id": "362249bf-c002-46dc-ae6c-80402a1f57dc",
      "metadata": {
        "trusted": true
      },
      "outputs": [
        {
          "name": "stdout",
          "output_type": "stream",
          "text": [
            "2\n"
          ]
        }
      ],
      "source": [
        "\n",
        "# 9.\tFind majority element (> n/2 frequency).\n",
        "\n",
        "def majority_element(arr):\n",
        "    count = 0\n",
        "    candidate = None\n",
        "    for num in arr:\n",
        "        if count == 0:\n",
        "            candidate = num\n",
        "        count += (1 if num == candidate else -1)\n",
        "    if arr.count(candidate) > len(arr) // 2:\n",
        "        return candidate\n",
        "    return None\n",
        "\n",
        "arr = [2, 2, 1, 1, 2, 2, 2]\n",
        "print(majority_element(arr))  \n"
      ]
    },
    {
      "cell_type": "code",
      "execution_count": 11,
      "id": "3927b82f-091a-419c-bf23-0013b1aeb0a8",
      "metadata": {
        "trusted": true
      },
      "outputs": [
        {
          "name": "stdout",
          "output_type": "stream",
          "text": [
            "2\n"
          ]
        }
      ],
      "source": [
        "\n",
        "# 10.\tFind equilibrium index (left sum = right sum).\n",
        "\n",
        "def equilibrium_index(arr):\n",
        "    total_sum = sum(arr)\n",
        "    left_sum = 0\n",
        "    for i, num in enumerate(arr):\n",
        "        total_sum -= num\n",
        "        if left_sum == total_sum:\n",
        "            return i\n",
        "        left_sum += num\n",
        "    return -1\n",
        "\n",
        "arr = [1, 3, 5, 2, 2]\n",
        "print(equilibrium_index(arr)) \n"
      ]
    },
    {
      "cell_type": "code",
      "execution_count": 12,
      "id": "55354bfa-a159-4063-892d-fca161695faa",
      "metadata": {
        "trusted": true
      },
      "outputs": [
        {
          "name": "stdout",
          "output_type": "stream",
          "text": [
            "[0, 0, 1, 1, 2, 2]\n"
          ]
        }
      ],
      "source": [
        "\n",
        "# 11.\tSort array of 0s, 1s, and 2s without sorting algo.\n",
        "\n",
        "def sort_012(arr):\n",
        "    low = mid = 0\n",
        "    high = len(arr) - 1\n",
        "    while mid <= high:\n",
        "        if arr[mid] == 0:\n",
        "            arr[low], arr[mid] = arr[mid], arr[low]\n",
        "            low += 1\n",
        "            mid += 1\n",
        "        elif arr[mid] == 1:\n",
        "            mid += 1\n",
        "        else:\n",
        "            arr[mid], arr[high] = arr[high], arr[mid]\n",
        "            high -= 1\n",
        "    return arr\n",
        "\n",
        "arr = [0, 1, 2, 0, 1, 2]\n",
        "print(sort_012(arr)) \n"
      ]
    },
    {
      "cell_type": "code",
      "execution_count": 13,
      "id": "5d5f0e0a-b97a-4b1c-8a7d-d25c70e68378",
      "metadata": {
        "trusted": true
      },
      "outputs": [
        {
          "name": "stdout",
          "output_type": "stream",
          "text": [
            "5\n"
          ]
        }
      ],
      "source": [
        "\n",
        "# 12.\tFind kth largest element.\n",
        "\n",
        "import heapq\n",
        "\n",
        "def kth_largest(arr, k):\n",
        "    return heapq.nlargest(k, arr)[-1]\n",
        "\n",
        "arr = [3, 2, 1, 5, 6, 4]\n",
        "k = 2\n",
        "print(kth_largest(arr, k))  \n"
      ]
    },
    {
      "cell_type": "code",
      "execution_count": 14,
      "id": "b9af4b03-9709-4d3a-923e-4fd58fb781f1",
      "metadata": {
        "trusted": true
      },
      "outputs": [
        {
          "name": "stdout",
          "output_type": "stream",
          "text": [
            "6\n"
          ]
        }
      ],
      "source": [
        "\n",
        "# 13.\tFind maximum sum subarray (Kadane’s algorithm).\n",
        "\n",
        "def max_subarray_sum(arr):\n",
        "    max_ending = max_so_far = arr[0]\n",
        "    for num in arr[1:]:\n",
        "        max_ending = max(num, max_ending + num)\n",
        "        max_so_far = max(max_so_far, max_ending)\n",
        "    return max_so_far\n",
        "\n",
        "arr = [-2,1,-3,4,-1,2,1,-5,4]\n",
        "print(max_subarray_sum(arr))  \n"
      ]
    },
    {
      "cell_type": "code",
      "execution_count": 15,
      "id": "d563d358-74a7-4f52-a963-6d639c03bce1",
      "metadata": {
        "trusted": true
      },
      "outputs": [
        {
          "name": "stdout",
          "output_type": "stream",
          "text": [
            "[17, 5, 2]\n"
          ]
        }
      ],
      "source": [
        "\n",
        "# 14.\tPrint leaders in an array.\n",
        "\n",
        "def print_leaders(arr):\n",
        "    leaders = []\n",
        "    max_from_right = float('-inf')\n",
        "    for num in reversed(arr):\n",
        "        if num > max_from_right:\n",
        "            leaders.append(num)\n",
        "            max_from_right = num\n",
        "    return leaders[::-1]\n",
        "\n",
        "arr = [16, 17, 4, 3, 5, 2]\n",
        "print(print_leaders(arr)) \n"
      ]
    },
    {
      "cell_type": "code",
      "execution_count": 16,
      "id": "c487996b-e2bf-489c-b556-0853903c30cc",
      "metadata": {
        "trusted": true
      },
      "outputs": [
        {
          "name": "stdout",
          "output_type": "stream",
          "text": [
            "2\n"
          ]
        }
      ],
      "source": [
        "\n",
        "# 15.\tMinimum swaps required to sort an array.\n",
        "\n",
        "def min_swaps(arr):\n",
        "    n = len(arr)\n",
        "    arrpos = list(enumerate(arr))\n",
        "    arrpos.sort(key=lambda it: it[1])\n",
        "    visited = [False] * n\n",
        "    swaps = 0\n",
        "    for i in range(n):\n",
        "        if visited[i] or arrpos[i][0] == i:\n",
        "            continue\n",
        "        cycle_size = 0\n",
        "        j = i\n",
        "        while not visited[j]:\n",
        "            visited[j] = True\n",
        "            j = arrpos[j][0]\n",
        "            cycle_size += 1\n",
        "        if cycle_size > 0:\n",
        "            swaps += (cycle_size - 1)\n",
        "    return swaps\n",
        "\n",
        "arr = [4, 3, 2, 1]\n",
        "print(min_swaps(arr))  \n"
      ]
    },
    {
      "cell_type": "code",
      "execution_count": 17,
      "id": "c3ebcc2f-9703-45e8-8ce8-c12cd064d9ce",
      "metadata": {
        "trusted": true
      },
      "outputs": [
        {
          "name": "stdout",
          "output_type": "stream",
          "text": [
            "20\n"
          ]
        }
      ],
      "source": [
        "\n",
        "# 16.\tFind peak element in an array.\n",
        "\n",
        "def find_peak(arr):\n",
        "    n = len(arr)\n",
        "    for i in range(n):\n",
        "        if (i == 0 or arr[i] >= arr[i-1]) and (i == n-1 or arr[i] >= arr[i+1]):\n",
        "            return arr[i]\n",
        "    return None\n",
        "\n",
        "arr = [1, 3, 20, 4, 1, 0]\n",
        "print(find_peak(arr))  \n"
      ]
    },
    {
      "cell_type": "code",
      "execution_count": 18,
      "id": "93b99f7e-08e0-47f1-b465-0601fc000cee",
      "metadata": {
        "trusted": true
      },
      "outputs": [
        {
          "name": "stdout",
          "output_type": "stream",
          "text": [
            "[20, 80]\n"
          ]
        }
      ],
      "source": [
        "\n",
        "# 17.\tFind common elements in three sorted arrays.\n",
        "\n",
        "def common_elements(arr1, arr2, arr3):\n",
        "    i = j = k = 0\n",
        "    common = []\n",
        "    while i < len(arr1) and j < len(arr2) and k < len(arr3):\n",
        "        if arr1[i] == arr2[j] == arr3[k]:\n",
        "            common.append(arr1[i])\n",
        "            i += 1\n",
        "            j += 1\n",
        "            k += 1\n",
        "        else:\n",
        "            minimum = min(arr1[i], arr2[j], arr3[k])\n",
        "            if arr1[i] == minimum:\n",
        "                i += 1\n",
        "            if arr2[j] == minimum:\n",
        "                j += 1\n",
        "            if arr3[k] == minimum:\n",
        "                k += 1\n",
        "    return common\n",
        "\n",
        "arr1 = [1, 5, 10, 20, 40, 80]\n",
        "arr2 = [6, 7, 20, 80, 100]\n",
        "arr3 = [3, 4, 15, 20, 30, 70, 80, 120]\n",
        "print(common_elements(arr1, arr2, arr3)) \n"
      ]
    },
    {
      "cell_type": "code",
      "execution_count": 19,
      "id": "2b3d466c-1756-496e-b2da-bbdd849325ba",
      "metadata": {
        "trusted": true
      },
      "outputs": [
        {
          "name": "stdout",
          "output_type": "stream",
          "text": [
            "{1: 1, 2: 2, 3: 3}\n"
          ]
        }
      ],
      "source": [
        "\n",
        "# 18.\tCount frequency of elements.\n",
        "\n",
        "from collections import Counter\n",
        "\n",
        "def frequency(arr):\n",
        "    return dict(Counter(arr))\n",
        "\n",
        "arr = [1, 2, 2, 3, 3, 3]\n",
        "print(frequency(arr))  \n"
      ]
    },
    {
      "cell_type": "code",
      "execution_count": 20,
      "id": "d1b03fa5-190e-46fc-9a07-f1748651c548",
      "metadata": {
        "trusted": true
      },
      "outputs": [
        {
          "name": "stdout",
          "output_type": "stream",
          "text": [
            "[2, 3, 7]\n"
          ]
        }
      ],
      "source": [
        "\n",
        "# 19.\tFind subarray with given sum.\n",
        "\n",
        "def subarray_with_sum(arr, target):\n",
        "    curr_sum = 0\n",
        "    start = 0\n",
        "    for end in range(len(arr)):\n",
        "        curr_sum += arr[end]\n",
        "        while curr_sum > target and start <= end:\n",
        "            curr_sum -= arr[start]\n",
        "            start += 1\n",
        "        if curr_sum == target:\n",
        "            return arr[start:end+1]\n",
        "    return []\n",
        "\n",
        "arr = [1, 2, 3, 7, 5]\n",
        "target = 12\n",
        "print(subarray_with_sum(arr, target)) \n"
      ]
    },
    {
      "cell_type": "code",
      "execution_count": 21,
      "id": "becc4c1d-91de-47d3-b094-e952dd88e987",
      "metadata": {
        "trusted": true
      },
      "outputs": [
        {
          "name": "stdout",
          "output_type": "stream",
          "text": [
            "4\n"
          ]
        }
      ],
      "source": [
        "\n",
        "# 20.\tLongest increasing subsequence.\n",
        "\n",
        "def length_of_LIS(arr):\n",
        "    if not arr:\n",
        "        return 0\n",
        "    dp = [1] * len(arr)\n",
        "    for i in range(1, len(arr)):\n",
        "        for j in range(i):\n",
        "            if arr[i] > arr[j]:\n",
        "                dp[i] = max(dp[i], dp[j] + 1)\n",
        "    return max(dp)\n",
        "\n",
        "arr = [10, 9, 2, 5, 3, 7, 101, 18]\n",
        "print(length_of_LIS(arr))  \n"
      ]
    },
    {
      "cell_type": "code",
      "execution_count": 22,
      "id": "e1ff1a59-f63c-4c35-8f67-bf7912b61f58",
      "metadata": {
        "trusted": true
      },
      "outputs": [
        {
          "name": "stdout",
          "output_type": "stream",
          "text": [
            "6\n"
          ]
        }
      ],
      "source": [
        "\n",
        "# 21.\tTrapping rainwater problem.\n",
        "\n",
        "def trap_rainwater(height):\n",
        "    if not height:\n",
        "        return 0\n",
        "    left, right = 0, len(height) - 1\n",
        "    left_max = right_max = 0\n",
        "    water = 0\n",
        "    while left < right:\n",
        "        if height[left] < height[right]:\n",
        "            if height[left] >= left_max:\n",
        "                left_max = height[left]\n",
        "            else:\n",
        "                water += left_max - height[left]\n",
        "            left += 1\n",
        "        else:\n",
        "            if height[right] >= right_max:\n",
        "                right_max = height[right]\n",
        "            else:\n",
        "                water += right_max - height[right]\n",
        "            right -= 1\n",
        "    return water\n",
        "\n",
        "height = [0,1,0,2,1,0,1,3,2,1,2,1]\n",
        "print(trap_rainwater(height))  \n"
      ]
    },
    {
      "cell_type": "code",
      "execution_count": 23,
      "id": "de32059d-6c1d-430c-a3ca-26a22a68084e",
      "metadata": {
        "trusted": true
      },
      "outputs": [
        {
          "name": "stdout",
          "output_type": "stream",
          "text": [
            "7\n"
          ]
        }
      ],
      "source": [
        "\n",
        "# 22.\tStock buy and sell problem.\n",
        "\n",
        "def max_profit(prices):\n",
        "    profit = 0\n",
        "    for i in range(1, len(prices)):\n",
        "        if prices[i] > prices[i-1]:\n",
        "            profit += prices[i] - prices[i-1]\n",
        "    return profit\n",
        "\n",
        "prices = [7,1,5,3,6,4]\n",
        "print(max_profit(prices))  \n"
      ]
    },
    {
      "cell_type": "code",
      "execution_count": 24,
      "id": "d593b16c-b472-4d37-b0f0-77897d09dd37",
      "metadata": {
        "trusted": true
      },
      "outputs": [
        {
          "name": "stdout",
          "output_type": "stream",
          "text": [
            "(1, 3)\n"
          ]
        }
      ],
      "source": [
        "\n",
        "# 23.\tFind pair with given difference.\n",
        "\n",
        "def pair_with_diff(arr, k):\n",
        "    s = set(arr)\n",
        "    for num in arr:\n",
        "        if num + k in s:\n",
        "            return (num, num + k)\n",
        "    return None\n",
        "\n",
        "arr = [1, 5, 3, 4, 2]\n",
        "k = 2\n",
        "print(pair_with_diff(arr, k)) \n"
      ]
    },
    {
      "cell_type": "code",
      "execution_count": 25,
      "id": "79825fe7-a6c1-414c-9d34-582556b9dcbc",
      "metadata": {
        "trusted": true
      },
      "outputs": [
        {
          "name": "stdout",
          "output_type": "stream",
          "text": [
            "True\n"
          ]
        }
      ],
      "source": [
        "\n",
        "# 24.\tCheck if array elements form an arithmetic progression.\n",
        "\n",
        "def is_arithmetic_progression(arr):\n",
        "    if len(arr) <= 2:\n",
        "        return True\n",
        "    arr.sort()\n",
        "    diff = arr[1] - arr[0]\n",
        "    return all(arr[i+1] - arr[i] == diff for i in range(len(arr)-1))\n",
        "\n",
        "arr = [5, 1, 3, 7, 9]\n",
        "print(is_arithmetic_progression(arr))  \n"
      ]
    },
    {
      "cell_type": "code",
      "execution_count": 26,
      "id": "62ab42e8-86d8-4dfa-b6bf-cb4c7d5ffb0c",
      "metadata": {
        "trusted": true
      },
      "outputs": [
        {
          "name": "stdout",
          "output_type": "stream",
          "text": [
            "[5, 1, 2, 3, 4]\n"
          ]
        }
      ],
      "source": [
        "\n",
        "# 25.\tCyclically rotate array by one.\n",
        "\n",
        "def rotate_by_one(arr):\n",
        "    if not arr:\n",
        "        return arr\n",
        "    last = arr[-1]\n",
        "    for i in range(len(arr)-1, 0, -1):\n",
        "        arr[i] = arr[i-1]\n",
        "    arr[0] = last\n",
        "    return arr\n",
        "\n",
        "arr = [1, 2, 3, 4, 5]\n",
        "print(rotate_by_one(arr))  \n"
      ]
    },
    {
      "cell_type": "code",
      "execution_count": null,
      "id": "7eb33f9c-0304-4bdf-800e-aa1d6eec341c",
      "metadata": {
        "trusted": true
      },
      "outputs": [],
      "source": [
        "\n",
        "# ------------------------------25 Problems on Stacks-------------------------\n"
      ]
    },
    {
      "cell_type": "code",
      "execution_count": 27,
      "id": "07714b5d-a4c4-4f27-986d-6766f03ae671",
      "metadata": {
        "trusted": true
      },
      "outputs": [
        {
          "name": "stdout",
          "output_type": "stream",
          "text": [
            "20\n",
            "10\n"
          ]
        }
      ],
      "source": [
        "\n",
        "# 1.\tImplement stack using arrays.\n",
        "\n",
        "class Stack:\n",
        "    def __init__(self):\n",
        "        self.stack = []\n",
        "    def push(self, val):\n",
        "        self.stack.append(val)\n",
        "    def pop(self):\n",
        "        if not self.is_empty():\n",
        "            return self.stack.pop()\n",
        "        return None\n",
        "    def peek(self):\n",
        "        if not self.is_empty():\n",
        "            return self.stack[-1]\n",
        "        return None\n",
        "    def is_empty(self):\n",
        "        return len(self.stack) == 0\n",
        "    def size(self):\n",
        "        return len(self.stack)\n",
        "\n",
        "s = Stack()\n",
        "s.push(10)\n",
        "s.push(20)\n",
        "print(s.pop())  \n",
        "print(s.peek()) \n"
      ]
    },
    {
      "cell_type": "code",
      "execution_count": 28,
      "id": "14c8376d-fe7d-4e3f-8ab9-7ec371bfe512",
      "metadata": {
        "trusted": true
      },
      "outputs": [
        {
          "name": "stdout",
          "output_type": "stream",
          "text": [
            "20\n",
            "10\n"
          ]
        }
      ],
      "source": [
        "\n",
        "# 2.\tImplement stack using linked list.\n",
        "\n",
        "class Node:\n",
        "    def __init__(self, val):\n",
        "        self.val = val\n",
        "        self.next = None\n",
        "\n",
        "class Stack:\n",
        "    def __init__(self):\n",
        "        self.head = None\n",
        "    def push(self, val):\n",
        "        new_node = Node(val)\n",
        "        new_node.next = self.head\n",
        "        self.head = new_node\n",
        "    def pop(self):\n",
        "        if self.head is None:\n",
        "            return None\n",
        "        val = self.head.val\n",
        "        self.head = self.head.next\n",
        "        return val\n",
        "    def peek(self):\n",
        "        return self.head.val if self.head else None\n",
        "    def is_empty(self):\n",
        "        return self.head is None\n",
        "\n",
        "s = Stack()\n",
        "s.push(10)\n",
        "s.push(20)\n",
        "print(s.pop())  \n",
        "print(s.peek())\n",
        "\n"
      ]
    },
    {
      "cell_type": "code",
      "execution_count": 29,
      "id": "044343c2-bf59-41fe-be56-7369fadc746c",
      "metadata": {
        "trusted": true
      },
      "outputs": [
        {
          "name": "stdout",
          "output_type": "stream",
          "text": [
            "True\n"
          ]
        }
      ],
      "source": [
        "\n",
        "# 3.\tCheck for balanced parentheses.\n",
        "\n",
        "def is_balanced(s):\n",
        "    stack = []\n",
        "    pairs = {')':'(', '}':'{', ']':'['}\n",
        "    for char in s:\n",
        "        if char in '({[':\n",
        "            stack.append(char)\n",
        "        elif char in ')}]':\n",
        "            if not stack or stack.pop() != pairs[char]:\n",
        "                return False\n",
        "    return not stack\n",
        "\n",
        "expr = \"{[()]}\"\n",
        "print(is_balanced(expr))  \n"
      ]
    },
    {
      "cell_type": "code",
      "execution_count": 30,
      "id": "aeb1732a-9797-48a4-8e65-78a9f1c0dd0e",
      "metadata": {
        "trusted": true
      },
      "outputs": [
        {
          "name": "stdout",
          "output_type": "stream",
          "text": [
            "-4\n"
          ]
        }
      ],
      "source": [
        "\n",
        "# 4.\tEvaluate postfix expression.\n",
        "\n",
        "def evaluate_postfix(expr):\n",
        "    stack = []\n",
        "    for char in expr.split():\n",
        "        if char.isdigit():\n",
        "            stack.append(int(char))\n",
        "        else:\n",
        "            b = stack.pop()\n",
        "            a = stack.pop()\n",
        "            if char == '+': stack.append(a + b)\n",
        "            elif char == '-': stack.append(a - b)\n",
        "            elif char == '*': stack.append(a * b)\n",
        "            elif char == '/': stack.append(int(a / b))\n",
        "    return stack.pop()\n",
        "\n",
        "expr = \"2 3 1 * + 9 -\"\n",
        "print(evaluate_postfix(expr))  \n"
      ]
    },
    {
      "cell_type": "code",
      "execution_count": 80,
      "id": "fe23ea61-c6d8-456d-973f-913f8388ec49",
      "metadata": {
        "trusted": true
      },
      "outputs": [
        {
          "name": "stdout",
          "output_type": "stream",
          "text": [
            "abcd^e-fgh*+^*+i-\n"
          ]
        }
      ],
      "source": [
        "\n",
        "# 5.\tConvert infix to postfix.\n",
        "\n",
        "def precedence(op):\n",
        "    if op in ('+', '-'): return 1\n",
        "    if op in ('*', '/'): return 2\n",
        "    if op == '^': return 3\n",
        "    return 0\n",
        "\n",
        "def infix_to_postfix(expr):\n",
        "    stack, output = [], []\n",
        "    for char in expr:\n",
        "        if char.isalnum():\n",
        "            output.append(char)  # Operand to output\n",
        "        elif char == '(':\n",
        "            stack.append(char)   # Push '('\n",
        "        elif char == ')':\n",
        "            while stack and stack[-1] != '(':\n",
        "                output.append(stack.pop())  # Pop until '('\n",
        "            stack.pop()  # Remove '('\n",
        "        else:\n",
        "            while stack and precedence(stack[-1]) >= precedence(char):\n",
        "                output.append(stack.pop())  # Pop higher/equal precedence\n",
        "            stack.append(char)  # Push operator\n",
        "    while stack:\n",
        "        output.append(stack.pop())  # Pop remaining operators\n",
        "    return ''.join(output)\n",
        "\n",
        "# Example\n",
        "expr = \"a+b*(c^d-e)^(f+g*h)-i\"\n",
        "print(infix_to_postfix(expr))  \n",
        "\n"
      ]
    },
    {
      "cell_type": "code",
      "execution_count": 33,
      "id": "9d019765-2cca-465e-b5ac-f54386b538a6",
      "metadata": {
        "trusted": true
      },
      "outputs": [
        {
          "name": "stdout",
          "output_type": "stream",
          "text": [
            "-+a*b^-^cde+f*ghi\n"
          ]
        }
      ],
      "source": [
        "\n",
        "# 6.\tConvert infix to prefix.\n",
        "\n",
        "def infix_to_prefix(expr):\n",
        "    def precedence(op):\n",
        "        if op in ('+', '-'): return 1\n",
        "        if op in ('*', '/'): return 2\n",
        "        if op == '^': return 3\n",
        "        return 0\n",
        "\n",
        "    def not_greater(op1, op2):\n",
        "        p1 = precedence(op1)\n",
        "        p2 = precedence(op2)\n",
        "        if p1 == p2 and op1 == '^':\n",
        "            return False\n",
        "        return p1 < p2\n",
        "\n",
        "    expr = expr[::-1]\n",
        "    expr = list(expr)\n",
        "    for i in range(len(expr)):\n",
        "        if expr[i] == '(':\n",
        "            expr[i] = ')'\n",
        "        elif expr[i] == ')':\n",
        "            expr[i] = '('\n",
        "    expr = ''.join(expr)\n",
        "\n",
        "    stack = []\n",
        "    output = []\n",
        "    for char in expr:\n",
        "        if char.isalnum():\n",
        "            output.append(char)\n",
        "        elif char == '(':\n",
        "            stack.append(char)\n",
        "        elif char == ')':\n",
        "            while stack and stack[-1] != '(':\n",
        "                output.append(stack.pop())\n",
        "            stack.pop()\n",
        "        else:\n",
        "            while stack and not_greater(char, stack[-1]):\n",
        "                output.append(stack.pop())\n",
        "            stack.append(char)\n",
        "    while stack:\n",
        "        output.append(stack.pop())\n",
        "    return ''.join(output[::-1])\n",
        "\n",
        "expr = \"a+b*(c^d-e)^(f+g*h)-i\"\n",
        "print(infix_to_prefix(expr)) \n"
      ]
    },
    {
      "cell_type": "code",
      "execution_count": 34,
      "id": "61d8d6ee-8177-45a3-9b22-8e9f4acb532c",
      "metadata": {
        "trusted": true
      },
      "outputs": [
        {
          "name": "stdout",
          "output_type": "stream",
          "text": [
            "[5, 25, 25, -1]\n"
          ]
        }
      ],
      "source": [
        "\n",
        "# 7.\tNext greater element for each element.\n",
        "\n",
        "def next_greater(arr):\n",
        "    stack = []\n",
        "    result = [-1]*len(arr)\n",
        "    for i in range(len(arr)):\n",
        "        while stack and arr[stack[-1]] < arr[i]:\n",
        "            result[stack.pop()] = arr[i]\n",
        "        stack.append(i)\n",
        "    return result\n",
        "\n",
        "arr = [4, 5, 2, 25]\n",
        "print(next_greater(arr))  \n"
      ]
    },
    {
      "cell_type": "code",
      "execution_count": 35,
      "id": "364d4f1a-6373-4ef0-adec-72504edf9822",
      "metadata": {
        "trusted": true
      },
      "outputs": [
        {
          "name": "stdout",
          "output_type": "stream",
          "text": [
            "[-1, 4, -1, 2, 2]\n"
          ]
        }
      ],
      "source": [
        "\n",
        "# 8.\tPrevious smaller element for each element.\n",
        "\n",
        "def prev_smaller(arr):\n",
        "    stack = []\n",
        "    result = [-1]*len(arr)\n",
        "    for i in range(len(arr)):\n",
        "        while stack and stack[-1] >= arr[i]:\n",
        "            stack.pop()\n",
        "        result[i] = stack[-1] if stack else -1\n",
        "        stack.append(arr[i])\n",
        "    return result\n",
        "\n",
        "arr = [4, 5, 2, 10, 8]\n",
        "print(prev_smaller(arr))  \n"
      ]
    },
    {
      "cell_type": "code",
      "execution_count": 36,
      "id": "3e7ea639-fe47-4a4f-8452-d4c877488b98",
      "metadata": {
        "trusted": true
      },
      "outputs": [
        {
          "name": "stdout",
          "output_type": "stream",
          "text": [
            "[-5, -3, 14, 18, 30]\n"
          ]
        }
      ],
      "source": [
        "\n",
        "# 9.\tSort a stack using recursion.\n",
        "\n",
        "def sorted_insert(stack, element):\n",
        "    if not stack or element > stack[-1]:\n",
        "        stack.append(element)\n",
        "    else:\n",
        "        temp = stack.pop()\n",
        "        sorted_insert(stack, element)\n",
        "        stack.append(temp)\n",
        "\n",
        "def sort_stack(stack):\n",
        "    if stack:\n",
        "        temp = stack.pop()\n",
        "        sort_stack(stack)\n",
        "        sorted_insert(stack, temp)\n",
        "\n",
        "stack = [30, -5, 18, 14, -3]\n",
        "sort_stack(stack)\n",
        "print(stack)  \n"
      ]
    },
    {
      "cell_type": "code",
      "execution_count": 37,
      "id": "01b7aa71-9351-471d-93ef-0c9447ecc7dc",
      "metadata": {
        "trusted": true
      },
      "outputs": [
        {
          "name": "stdout",
          "output_type": "stream",
          "text": [
            "5\n",
            "15\n"
          ]
        }
      ],
      "source": [
        "\n",
        "# 10.\tImplement two stacks in a single array.\n",
        "\n",
        "class TwoStacks:\n",
        "    def __init__(self, n):\n",
        "        self.size = n\n",
        "        self.arr = [None]*n\n",
        "        self.top1 = -1\n",
        "        self.top2 = n\n",
        "\n",
        "    def push1(self, x):\n",
        "        if self.top1 < self.top2 - 1:\n",
        "            self.top1 += 1\n",
        "            self.arr[self.top1] = x\n",
        "        else:\n",
        "            print(\"Stack Overflow\")\n",
        "\n",
        "    def push2(self, x):\n",
        "        if self.top1 < self.top2 - 1:\n",
        "            self.top2 -= 1\n",
        "            self.arr[self.top2] = x\n",
        "        else:\n",
        "            print(\"Stack Overflow\")\n",
        "\n",
        "    def pop1(self):\n",
        "        if self.top1 >= 0:\n",
        "            x = self.arr[self.top1]\n",
        "            self.top1 -= 1\n",
        "            return x\n",
        "        else:\n",
        "            print(\"Stack Underflow\")\n",
        "            return None\n",
        "\n",
        "    def pop2(self):\n",
        "        if self.top2 < self.size:\n",
        "            x = self.arr[self.top2]\n",
        "            self.top2 += 1\n",
        "            return x\n",
        "        else:\n",
        "            print(\"Stack Underflow\")\n",
        "            return None\n",
        "\n",
        "ts = TwoStacks(5)\n",
        "ts.push1(5)\n",
        "ts.push2(10)\n",
        "ts.push2(15)\n",
        "print(ts.pop1())  \n",
        "print(ts.pop2()) \n"
      ]
    },
    {
      "cell_type": "code",
      "execution_count": 38,
      "id": "8780f229-94c2-4115-ab19-b8ba99014157",
      "metadata": {
        "trusted": true
      },
      "outputs": [
        {
          "name": "stdout",
          "output_type": "stream",
          "text": [
            "10\n"
          ]
        }
      ],
      "source": [
        "\n",
        "# 11.\tLargest rectangle in histogram.\n",
        "\n",
        "def largest_rectangle_histogram(heights):\n",
        "    stack = []\n",
        "    max_area = 0\n",
        "    heights.append(0)\n",
        "    for i, h in enumerate(heights):\n",
        "        while stack and heights[stack[-1]] > h:\n",
        "            height = heights[stack.pop()]\n",
        "            width = i if not stack else i - stack[-1] - 1\n",
        "            max_area = max(max_area, height * width)\n",
        "        stack.append(i)\n",
        "    return max_area\n",
        "\n",
        "heights = [2,1,5,6,2,3]\n",
        "print(largest_rectangle_histogram(heights)) \n"
      ]
    },
    {
      "cell_type": "code",
      "execution_count": 40,
      "id": "66a8e9be-1751-4b8e-8e95-5aaf343d162f",
      "metadata": {
        "trusted": true
      },
      "outputs": [
        {
          "name": "stdout",
          "output_type": "stream",
          "text": [
            "3\n",
            "1\n",
            "2\n"
          ]
        }
      ],
      "source": [
        "\n",
        "# 12.\tMinimum element in O(1) using extra stack.\n",
        "\n",
        "\n",
        "class MinStack:\n",
        "    def __init__(self):\n",
        "        self.stack = []\n",
        "        self.min_stack = []\n",
        "\n",
        "    def push(self, x):\n",
        "        self.stack.append(x)\n",
        "        if not self.min_stack or x <= self.min_stack[-1]:\n",
        "            self.min_stack.append(x)\n",
        "\n",
        "    def pop(self):\n",
        "        if self.stack:\n",
        "            x = self.stack.pop()\n",
        "            if x == self.min_stack[-1]:\n",
        "                self.min_stack.pop()\n",
        "            return x\n",
        "        return None\n",
        "\n",
        "    def get_min(self):\n",
        "        return self.min_stack[-1] if self.min_stack else None\n",
        "\n",
        "ms = MinStack()\n",
        "ms.push(3)\n",
        "ms.push(5)\n",
        "print(ms.get_min())  \n",
        "ms.push(2)\n",
        "ms.push(1)\n",
        "print(ms.get_min())\n",
        "ms.pop()\n",
        "print(ms.get_min())\n"
      ]
    },
    {
      "cell_type": "code",
      "execution_count": 42,
      "id": "16f7ee7c-3462-44ef-84b5-a64f3e7e75bd",
      "metadata": {
        "trusted": true
      },
      "outputs": [
        {
          "name": "stdout",
          "output_type": "stream",
          "text": [
            "1\n"
          ]
        }
      ],
      "source": [
        "\n",
        "# 13.\tCelebrity problem (find the person known by all, knows none).\n",
        "\n",
        "def find_celebrity(M, n):\n",
        "    a = 0\n",
        "    b = n - 1\n",
        "    while a < b:\n",
        "        if M[a][b] == 1:\n",
        "            a += 1\n",
        "        else:\n",
        "            b -= 1\n",
        "    for i in range(n):\n",
        "        if i != a and (M[a][i] == 1 or M[i][a] == 0):\n",
        "            return -1\n",
        "    return a\n",
        "\n",
        "M = [\n",
        "    [0, 1, 0],\n",
        "    [0, 0, 0],\n",
        "    [0, 1, 0]\n",
        "]\n",
        "print(find_celebrity(M, 3)) \n"
      ]
    },
    {
      "cell_type": "code",
      "execution_count": 43,
      "id": "60c34b9f-230e-4693-a4ab-0ada64e8cfda",
      "metadata": {
        "trusted": true
      },
      "outputs": [
        {
          "name": "stdout",
          "output_type": "stream",
          "text": [
            "[1, 1, 1, 2, 1, 4, 6]\n"
          ]
        }
      ],
      "source": [
        "\n",
        "# 14.\tSpan of stock prices.\n",
        "\n",
        "def calculate_span(prices):\n",
        "    stack = []\n",
        "    span = [0]*len(prices)\n",
        "    for i, price in enumerate(prices):\n",
        "        while stack and prices[stack[-1]] <= price:\n",
        "            stack.pop()\n",
        "        span[i] = i + 1 if not stack else i - stack[-1]\n",
        "        stack.append(i)\n",
        "    return span\n",
        "\n",
        "prices = [100, 80, 60, 70, 60, 75, 85]\n",
        "print(calculate_span(prices))  \n"
      ]
    },
    {
      "cell_type": "code",
      "execution_count": 44,
      "id": "b6321f26-b44d-44b3-9acb-5dcad2243ed9",
      "metadata": {
        "trusted": true
      },
      "outputs": [
        {
          "name": "stdout",
          "output_type": "stream",
          "text": [
            "olleh\n"
          ]
        }
      ],
      "source": [
        "\n",
        "# 15.\tReverse a string using stack.\n",
        "\n",
        "def reverse_string(s):\n",
        "    stack = list(s)\n",
        "    res = ''\n",
        "    while stack:\n",
        "        res += stack.pop()\n",
        "    return res\n",
        "\n",
        "s = \"hello\"\n",
        "print(reverse_string(s))  \n"
      ]
    },
    {
      "cell_type": "code",
      "execution_count": 45,
      "id": "e44afbd4-ddd8-420a-abf3-2bcccf60073e",
      "metadata": {
        "trusted": true
      },
      "outputs": [
        {
          "name": "stdout",
          "output_type": "stream",
          "text": [
            "accaccacc\n"
          ]
        }
      ],
      "source": [
        "\n",
        "# 16.\tDecode string with pattern “3[a2[c]]”.\n",
        "\n",
        "def decode_string(s):\n",
        "    stack_num = []\n",
        "    stack_str = []\n",
        "    current_str = ''\n",
        "    k = 0\n",
        "    for char in s:\n",
        "        if char.isdigit():\n",
        "            k = k * 10 + int(char)\n",
        "        elif char == '[':\n",
        "            stack_num.append(k)\n",
        "            stack_str.append(current_str)\n",
        "            current_str = ''\n",
        "            k = 0\n",
        "        elif char == ']':\n",
        "            prev_str = stack_str.pop()\n",
        "            num = stack_num.pop()\n",
        "            current_str = prev_str + current_str * num\n",
        "        else:\n",
        "            current_str += char\n",
        "    return current_str\n",
        "\n",
        "s = \"3[a2[c]]\"\n",
        "print(decode_string(s))  \n"
      ]
    },
    {
      "cell_type": "code",
      "execution_count": 46,
      "id": "0b26964b-2a1e-4877-bed8-728b087262af",
      "metadata": {
        "trusted": true
      },
      "outputs": [
        {
          "name": "stdout",
          "output_type": "stream",
          "text": [
            "ca\n"
          ]
        }
      ],
      "source": [
        "\n",
        "# 17.\tRemove adjacent duplicates using stack.\n",
        "\n",
        "def remove_adjacent_duplicates(s):\n",
        "    stack = []\n",
        "    for char in s:\n",
        "        if stack and stack[-1] == char:\n",
        "            stack.pop()\n",
        "        else:\n",
        "            stack.append(char)\n",
        "    return ''.join(stack)\n",
        "\n",
        "s = \"abbaca\"\n",
        "print(remove_adjacent_duplicates(s))\n"
      ]
    },
    {
      "cell_type": "code",
      "execution_count": 47,
      "id": "15f10f92-d408-498e-ae71-4bdfa4b7e603",
      "metadata": {
        "trusted": true
      },
      "outputs": [
        {
          "name": "stdout",
          "output_type": "stream",
          "text": [
            "8\n"
          ]
        }
      ],
      "source": [
        "\n",
        "# 18.\tMaximum area of binary matrix filled with 1s.\n",
        "\n",
        "def max_histogram_area(heights):\n",
        "    stack = []\n",
        "    max_area = 0\n",
        "    heights.append(0)\n",
        "    for i, h in enumerate(heights):\n",
        "        while stack and heights[stack[-1]] > h:\n",
        "            height = heights[stack.pop()]\n",
        "            width = i if not stack else i - stack[-1] - 1\n",
        "            max_area = max(max_area, height * width)\n",
        "        stack.append(i)\n",
        "    return max_area\n",
        "\n",
        "def max_rectangle(matrix):\n",
        "    if not matrix:\n",
        "        return 0\n",
        "    max_area = 0\n",
        "    dp = [0]*len(matrix[0])\n",
        "    for row in matrix:\n",
        "        for i in range(len(row)):\n",
        "            dp[i] = dp[i] + 1 if row[i] == 1 else 0\n",
        "        max_area = max(max_area, max_histogram_area(dp))\n",
        "    return max_area\n",
        "\n",
        "matrix = [\n",
        "    [0,1,1,0],\n",
        "    [1,1,1,1],\n",
        "    [1,1,1,1],\n",
        "    [1,1,0,0]\n",
        "]\n",
        "print(max_rectangle(matrix))\n"
      ]
    },
    {
      "cell_type": "code",
      "execution_count": 48,
      "id": "06f68e70-8627-4d8c-8fd1-d59da58c208a",
      "metadata": {
        "trusted": true
      },
      "outputs": [
        {
          "name": "stdout",
          "output_type": "stream",
          "text": [
            "True\n"
          ]
        }
      ],
      "source": [
        "\n",
        "# 19.\tValid parenthesis string with *, (, ).\n",
        "\n",
        "def check_valid_string(s):\n",
        "    low = high = 0\n",
        "    for char in s:\n",
        "        if char == '(':\n",
        "            low += 1\n",
        "            high += 1\n",
        "        elif char == ')':\n",
        "            low = max(low - 1, 0)\n",
        "            high -= 1\n",
        "        else:  # '*'\n",
        "            low = max(low - 1, 0)\n",
        "            high += 1\n",
        "        if high < 0:\n",
        "            return False\n",
        "    return low == 0\n",
        "\n",
        "s = \"(*))\"\n",
        "print(check_valid_string(s))  \n"
      ]
    },
    {
      "cell_type": "code",
      "execution_count": 55,
      "id": "753d71e5-7b68-4f1f-bd30-7426f2fc2595",
      "metadata": {
        "trusted": true
      },
      "outputs": [
        {
          "name": "stdout",
          "output_type": "stream",
          "text": [
            "-4\n"
          ]
        }
      ],
      "source": [
        "\n",
        "# 20.\tEvaluate prefix expression.\n",
        "\n",
        "def evaluate_prefix(expr):\n",
        "    stack = []\n",
        "    # Process tokens from right to left\n",
        "    for token in expr.split()[::-1]:\n",
        "        if token.isdigit():\n",
        "            stack.append(int(token))  # Push operand\n",
        "        else:\n",
        "            a = stack.pop()\n",
        "            b = stack.pop()\n",
        "            # Perform operation\n",
        "            if token == '+': stack.append(a + b)\n",
        "            elif token == '-': stack.append(a - b)\n",
        "            elif token == '*': stack.append(a * b)\n",
        "            elif token == '/': stack.append(int(a / b))\n",
        "    return stack.pop()\n",
        "\n",
        "expr = \"- + 2 * 3 1 9\"\n",
        "print(evaluate_prefix(expr))  \n",
        "\n"
      ]
    },
    {
      "cell_type": "code",
      "execution_count": 57,
      "id": "9d1aa051-fdf6-4d92-8159-4013e8b6d42e",
      "metadata": {
        "trusted": true
      },
      "outputs": [
        {
          "name": "stdout",
          "output_type": "stream",
          "text": [
            "3\n"
          ]
        }
      ],
      "source": [
        "\n",
        "# 21.\tMinimum reversals to balance expression.\n",
        "\n",
        "def min_reversals(expr):\n",
        "    if len(expr) % 2 != 0:\n",
        "        return -1\n",
        "    stack = []\n",
        "    for char in expr:\n",
        "        if char == '{':\n",
        "            stack.append(char)\n",
        "        else:\n",
        "            if stack and stack[-1] == '{':\n",
        "                stack.pop()\n",
        "            else:\n",
        "                stack.append(char)\n",
        "    count = 0\n",
        "    while stack:\n",
        "        a = stack.pop()\n",
        "        b = stack.pop()\n",
        "        if a == b:\n",
        "            count += 1\n",
        "        else:\n",
        "            count += 2\n",
        "    return count\n",
        "\n",
        "expr = \"}{{}}{{{\"\n",
        "print(min_reversals(expr))  \n"
      ]
    },
    {
      "cell_type": "code",
      "execution_count": 51,
      "id": "491977e3-3b5b-475d-a95b-c7b68345dfed",
      "metadata": {
        "trusted": true
      },
      "outputs": [
        {
          "name": "stdout",
          "output_type": "stream",
          "text": [
            "True\n"
          ]
        }
      ],
      "source": [
        "\n",
        "# 22.\tCheck if stack permutation is possible.\n",
        "\n",
        "def is_stack_permutation(input_seq, output_seq):\n",
        "    stack = []\n",
        "    i = 0\n",
        "    for num in input_seq:\n",
        "        stack.append(num)\n",
        "        while stack and stack[-1] == output_seq[i]:\n",
        "            stack.pop()\n",
        "            i += 1\n",
        "    return i == len(output_seq)\n",
        "\n",
        "input_seq = [1, 2, 3, 4, 5]\n",
        "output_seq = [4, 5, 3, 2, 1]\n",
        "print(is_stack_permutation(input_seq, output_seq))  \n"
      ]
    },
    {
      "cell_type": "code",
      "execution_count": 52,
      "id": "f01a72ab-032b-493c-aee2-6fe4aefbdaf1",
      "metadata": {
        "trusted": true
      },
      "outputs": [
        {
          "name": "stdout",
          "output_type": "stream",
          "text": [
            "2\n"
          ]
        }
      ],
      "source": [
        "\n",
        "# 23.\tLongest valid parentheses substring.\n",
        "\n",
        "def longest_valid_parentheses(s):\n",
        "    stack = [-1]\n",
        "    max_len = 0\n",
        "    for i, char in enumerate(s):\n",
        "        if char == '(':\n",
        "            stack.append(i)\n",
        "        else:\n",
        "            stack.pop()\n",
        "            if not stack:\n",
        "                stack.append(i)\n",
        "            else:\n",
        "                max_len = max(max_len, i - stack[-1])\n",
        "    return max_len\n",
        "\n",
        "s = \"(()\"\n",
        "print(longest_valid_parentheses(s)) \n"
      ]
    },
    {
      "cell_type": "code",
      "execution_count": 53,
      "id": "df5c10d2-a30b-457b-be38-85163f7ec74a",
      "metadata": {
        "trusted": true
      },
      "outputs": [
        {
          "name": "stdout",
          "output_type": "stream",
          "text": [
            "3\n",
            "5\n",
            "1\n",
            "5\n",
            "2\n"
          ]
        }
      ],
      "source": [
        "\n",
        "# 24.\tImplement getMin(), getMax() in stack in O(1).\n",
        "\n",
        "class MinMaxStack:\n",
        "    def __init__(self):\n",
        "        self.stack = []\n",
        "        self.min_stack = []\n",
        "        self.max_stack = []\n",
        "\n",
        "    def push(self, x):\n",
        "        self.stack.append(x)\n",
        "        if not self.min_stack or x <= self.min_stack[-1]:\n",
        "            self.min_stack.append(x)\n",
        "        if not self.max_stack or x >= self.max_stack[-1]:\n",
        "            self.max_stack.append(x)\n",
        "\n",
        "    def pop(self):\n",
        "        if not self.stack:\n",
        "            return None\n",
        "        x = self.stack.pop()\n",
        "        if x == self.min_stack[-1]:\n",
        "            self.min_stack.pop()\n",
        "        if x == self.max_stack[-1]:\n",
        "            self.max_stack.pop()\n",
        "        return x\n",
        "\n",
        "    def get_min(self):\n",
        "        return self.min_stack[-1] if self.min_stack else None\n",
        "\n",
        "    def get_max(self):\n",
        "        return self.max_stack[-1] if self.max_stack else None\n",
        "\n",
        "s = MinMaxStack()\n",
        "s.push(3)\n",
        "s.push(5)\n",
        "print(s.get_min())  \n",
        "print(s.get_max()) \n",
        "s.push(2)\n",
        "s.push(1)\n",
        "print(s.get_min())  \n",
        "print(s.get_max())  \n",
        "s.pop()\n",
        "print(s.get_min())  \n"
      ]
    },
    {
      "cell_type": "code",
      "execution_count": 54,
      "id": "aae94b7b-b969-467c-9ff3-fa446b6b0f3f",
      "metadata": {
        "trusted": true
      },
      "outputs": [],
      "source": [
        "\n",
        "# 25.\tDesign a stack that supports middle element retrieval.\n",
        "\n",
        "class DLLNode:\n",
        "    def __init__(self, val):\n",
        "        self.val = val\n",
        "        self.prev = None\n",
        "        self.next = None\n",
        "\n",
        "class StackWithMiddle:\n",
        "    def __init__(self):\n",
        "        self.head = None\n",
        "        self.mid = None\n",
        "        self.count = 0\n",
        "\n",
        "   "
      ]
    },
    {
      "cell_type": "code",
      "execution_count": null,
      "id": "6f86773f-0e3a-48a7-bd6e-6f81556f334a",
      "metadata": {
        "trusted": true
      },
      "outputs": [],
      "source": [
        "# -----------------------------------25 Problems on Queues-------------------------"
      ]
    },
    {
      "cell_type": "code",
      "execution_count": 88,
      "id": "0ab58994-f67e-4743-89b4-e4b89f2e5ccb",
      "metadata": {
        "trusted": true
      },
      "outputs": [
        {
          "name": "stdout",
          "output_type": "stream",
          "text": [
            "Queue: [10, 20, 30]\n",
            "Dequeued: 10\n",
            "Queue: [20, 30]\n"
          ]
        }
      ],
      "source": [
        "\n",
        "# 1.\tImplement queue using arrays.\n",
        "\n",
        "class ArrayQueue:\n",
        "    def __init__(self):\n",
        "        self.queue = []\n",
        "\n",
        "    def enqueue(self, item):\n",
        "        self.queue.append(item)\n",
        "\n",
        "    def dequeue(self):\n",
        "        if self.is_empty():\n",
        "            return \"Queue is empty\"\n",
        "        return self.queue.pop(0)\n",
        "\n",
        "    def peek(self):\n",
        "        return self.queue[0] if not self.is_empty() else \"Empty\"\n",
        "\n",
        "    def is_empty(self):\n",
        "        return len(self.queue) == 0\n",
        "\n",
        "    def display(self):\n",
        "        print(\"Queue:\", self.queue)\n",
        "\n",
        "# Input\n",
        "q = ArrayQueue()\n",
        "q.enqueue(10)\n",
        "q.enqueue(20)\n",
        "q.enqueue(30)\n",
        "q.display()\n",
        "print(\"Dequeued:\", q.dequeue())\n",
        "q.display()\n"
      ]
    },
    {
      "cell_type": "code",
      "execution_count": null,
      "id": "4fe06ff9-a9f3-4380-bc51-13cfdd7ea885",
      "metadata": {
        "trusted": true
      },
      "outputs": [],
      "source": [
        "\n",
        "# 2.\tImplement queue using linked list.\n",
        "\n",
        "class Node:\n",
        "    def __init__(self, val):\n",
        "        self.val = val\n",
        "        self.next = None\n",
        "\n",
        "class LinkedListQueue:\n",
        "    def __init__(self):\n",
        "        self.front = self.rear = None\n",
        "\n",
        "    def enqueue(self, val):\n",
        "        new_node = Node(val)\n",
        "        if not self.rear:\n",
        "            self.front = self.rear = new_node\n",
        "        else:\n",
        "            self.rear.next = new_node\n",
        "            self.rear = new_node\n",
        "\n",
        "    def dequeue(self):\n",
        "        if not self.front:\n",
        "            return \"Queue is empty\"\n",
        "        val = self.front.val\n",
        "        self.front = self.front.next\n",
        "        if not self.front:\n",
        "            self.rear = None\n",
        "        return val\n",
        "\n",
        "    def display(self):\n",
        "        temp = self.front\n",
        "        print(\"Queue:\", end=\" \")\n",
        "        while temp:\n",
        "            print(temp.val, end=\" → \")\n",
        "            temp = temp.next\n",
        "        print(\"None\")\n",
        "\n",
        "# 🔽 Example\n",
        "q = LinkedListQueue()\n",
        "q.enqueue(5)\n",
        "q.enqueue(15)\n",
        "q.enqueue(25)\n",
        "q.display()\n",
        "print(\"Dequeued:\", q.dequeue())\n",
        "q.display()\n"
      ]
    },
    {
      "cell_type": "code",
      "execution_count": 93,
      "id": "c2d0fb47-b72b-4c3d-9e58-5f1b2a9dddcb",
      "metadata": {
        "trusted": true
      },
      "outputs": [
        {
          "name": "stdout",
          "output_type": "stream",
          "text": [
            "Queue: 1 2 3 4 \n",
            "Dequeued: 1\n",
            "Queue: 2 3 4 5 \n"
          ]
        }
      ],
      "source": [
        "\n",
        "# 3.\tImplement circular queue.\n",
        "\n",
        "class CircularQueue:\n",
        "    def __init__(self, size):\n",
        "        self.size = size\n",
        "        self.queue = [None]*size\n",
        "        self.front = self.rear = -1\n",
        "\n",
        "    def enqueue(self, val):\n",
        "        if (self.rear + 1) % self.size == self.front:\n",
        "            return \"Queue is full\"\n",
        "        if self.front == -1:\n",
        "            self.front = self.rear = 0\n",
        "        else:\n",
        "            self.rear = (self.rear + 1) % self.size\n",
        "        self.queue[self.rear] = val\n",
        "\n",
        "    def dequeue(self):\n",
        "        if self.front == -1:\n",
        "            return \"Queue is empty\"\n",
        "        val = self.queue[self.front]\n",
        "        if self.front == self.rear:\n",
        "            self.front = self.rear = -1\n",
        "        else:\n",
        "            self.front = (self.front + 1) % self.size\n",
        "        return val\n",
        "\n",
        "    def display(self):\n",
        "        if self.front == -1:\n",
        "            print(\"Queue is empty\")\n",
        "            return\n",
        "        print(\"Queue:\", end=\" \")\n",
        "        i = self.front\n",
        "        while True:\n",
        "            print(self.queue[i], end=\" \")\n",
        "            if i == self.rear:\n",
        "                break\n",
        "            i = (i + 1) % self.size\n",
        "        print()\n",
        "\n",
        "# Input\n",
        "cq = CircularQueue(5)\n",
        "cq.enqueue(1)\n",
        "cq.enqueue(2)\n",
        "cq.enqueue(3)\n",
        "cq.enqueue(4)\n",
        "cq.display()\n",
        "print(\"Dequeued:\", cq.dequeue())\n",
        "cq.enqueue(5)\n",
        "cq.display()\n"
      ]
    },
    {
      "cell_type": "code",
      "execution_count": 92,
      "id": "f5753ee5-1688-46fa-890e-8452133ed049",
      "metadata": {
        "trusted": true
      },
      "outputs": [
        {
          "name": "stdout",
          "output_type": "stream",
          "text": [
            "Deque: [20, 10, 30]\n",
            "Deque after pops: [10]\n"
          ]
        }
      ],
      "source": [
        "\n",
        "# 4.\tImplement deque (double-ended queue).\n",
        "\n",
        "from collections import deque\n",
        "\n",
        "dq = deque()\n",
        "\n",
        "# Input\n",
        "dq.append(10)         # Add to rear\n",
        "dq.appendleft(20)     # Add to front\n",
        "dq.append(30)\n",
        "print(\"Deque:\", list(dq))\n",
        "\n",
        "dq.pop()              # Remove from rear\n",
        "dq.popleft()          # Remove from front\n",
        "print(\"Deque after pops:\", list(dq))\n"
      ]
    },
    {
      "cell_type": "code",
      "execution_count": 91,
      "id": "09ee2531-9926-4d2e-8efc-f0ed44ce0dde",
      "metadata": {
        "trusted": true
      },
      "outputs": [
        {
          "name": "stdout",
          "output_type": "stream",
          "text": [
            "Min-Heap: [1, 5, 10]\n",
            "Popped: 1\n",
            "Max-Heap: [10, 1, 5]\n",
            "Popped: 10\n"
          ]
        }
      ],
      "source": [
        "\n",
        "# 5.\tImplement priority queue (min/max heap).\n",
        "\n",
        "import heapq\n",
        "\n",
        "# Min-Heap\n",
        "min_heap = []\n",
        "heapq.heappush(min_heap, 5)\n",
        "heapq.heappush(min_heap, 1)\n",
        "heapq.heappush(min_heap, 10)\n",
        "print(\"Min-Heap:\", min_heap)\n",
        "print(\"Popped:\", heapq.heappop(min_heap))\n",
        "\n",
        "# Max-Heap\n",
        "max_heap = []\n",
        "heapq.heappush(max_heap, -5)\n",
        "heapq.heappush(max_heap, -1)\n",
        "heapq.heappush(max_heap, -10)\n",
        "print(\"Max-Heap:\", [-x for x in max_heap])\n",
        "print(\"Popped:\", -heapq.heappop(max_heap))\n"
      ]
    },
    {
      "cell_type": "code",
      "execution_count": 94,
      "id": "46ba162f-82e2-45ee-a303-75449933e925",
      "metadata": {
        "trusted": true
      },
      "outputs": [
        {
          "name": "stdout",
          "output_type": "stream",
          "text": [
            "1\n",
            "10\n",
            "11\n",
            "100\n",
            "101\n"
          ]
        }
      ],
      "source": [
        "\n",
        "# 6.\tGenerate binary numbers from 1 to n using queue.\n",
        "\n",
        "from collections import deque\n",
        "\n",
        "def generate_binary(n):\n",
        "    q = deque()\n",
        "    q.append(\"1\")\n",
        "    for _ in range(n):\n",
        "        curr = q.popleft()\n",
        "        print(curr)\n",
        "        q.append(curr + \"0\")\n",
        "        q.append(curr + \"1\")\n",
        "\n",
        "# Input\n",
        "generate_binary(5)\n",
        "\n"
      ]
    },
    {
      "cell_type": "code",
      "execution_count": 95,
      "id": "d5a90093-5c8b-4226-a62d-e8edd81177e8",
      "metadata": {
        "trusted": true
      },
      "outputs": [
        {
          "name": "stdout",
          "output_type": "stream",
          "text": [
            "[4, 5, 1, 2, 3]\n"
          ]
        }
      ],
      "source": [
        "\n",
        "# 7.\tReverse first k elements of queue.\n",
        "\n",
        "from collections import deque\n",
        "\n",
        "def reverse_first_k(q, k):\n",
        "    stack = []\n",
        "    for _ in range(k):\n",
        "        stack.append(q.popleft())\n",
        "    while stack:\n",
        "        q.appendleft(stack.pop())\n",
        "    q.rotate(-k)\n",
        "\n",
        "# Input\n",
        "q = deque([1, 2, 3, 4, 5])\n",
        "reverse_first_k(q, 3)\n",
        "print(list(q))  \n"
      ]
    },
    {
      "cell_type": "code",
      "execution_count": 96,
      "id": "e40b2d85-00bc-417a-9da2-7f77d97ed04d",
      "metadata": {
        "trusted": true
      },
      "outputs": [
        {
          "name": "stdout",
          "output_type": "stream",
          "text": [
            "[1, 3, 2, 4]\n"
          ]
        }
      ],
      "source": [
        "\n",
        "# 8.\tInterleave first and second half of queue.\n",
        "\n",
        "from collections import deque\n",
        "\n",
        "def interleave_queue(q):\n",
        "    half = len(q) // 2\n",
        "    first = deque()\n",
        "    for _ in range(half):\n",
        "        first.append(q.popleft())\n",
        "    while first:\n",
        "        q.append(first.popleft())\n",
        "        q.append(q.popleft())\n",
        "\n",
        "# Input\n",
        "q = deque([1, 2, 3, 4])\n",
        "interleave_queue(q)\n",
        "print(list(q))  \n"
      ]
    },
    {
      "cell_type": "code",
      "execution_count": 97,
      "id": "fdefce38-2261-4dbf-8fa8-075801631b15",
      "metadata": {
        "trusted": true
      },
      "outputs": [
        {
          "name": "stdout",
          "output_type": "stream",
          "text": [
            "4\n"
          ]
        }
      ],
      "source": [
        "\n",
        "# 9.\tRotten oranges problem.\n",
        "\n",
        "from collections import deque\n",
        "\n",
        "def oranges_rotting(grid):\n",
        "    rows, cols = len(grid), len(grid[0])\n",
        "    q = deque()\n",
        "    fresh = 0\n",
        "\n",
        "    for r in range(rows):\n",
        "        for c in range(cols):\n",
        "            if grid[r][c] == 2:\n",
        "                q.append((r, c, 0))\n",
        "            elif grid[r][c] == 1:\n",
        "                fresh += 1\n",
        "\n",
        "    time = 0\n",
        "    directions = [(0,1),(1,0),(-1,0),(0,-1)]\n",
        "    while q:\n",
        "        r, c, t = q.popleft()\n",
        "        time = max(time, t)\n",
        "        for dr, dc in directions:\n",
        "            nr, nc = r + dr, c + dc\n",
        "            if 0 <= nr < rows and 0 <= nc < cols and grid[nr][nc] == 1:\n",
        "                grid[nr][nc] = 2\n",
        "                fresh -= 1\n",
        "                q.append((nr, nc, t + 1))\n",
        "\n",
        "    return time if fresh == 0 else -1\n",
        "\n",
        "# Input\n",
        "grid = [[2,1,1],[1,1,0],[0,1,1]]\n",
        "print(oranges_rotting(grid))  \n"
      ]
    },
    {
      "cell_type": "code",
      "execution_count": null,
      "id": "c18177e9-881f-4bf1-a77a-d013df1a73cf",
      "metadata": {
        "trusted": true
      },
      "outputs": [],
      "source": [
        "\n",
        "# 10.\tSliding window maximum using deque.\n",
        "\n",
        "from collections import deque\n",
        "\n",
        "def sliding_max(nums, k):\n",
        "    dq = deque()\n",
        "    result = []\n",
        "\n",
        "    for i in range(len(nums)):\n",
        "        while dq and dq[0] <= i - k:\n",
        "            dq.popleft()\n",
        "        while dq and nums[dq[-1]] < nums[i]:\n",
        "            dq.pop()\n",
        "        dq.append(i)\n",
        "        if i >= k - 1:\n",
        "            result.append(nums[dq[0]])\n",
        "    return result\n",
        "\n",
        "# Input\n",
        "nums = [1,3,-1,-3,5,3,6,7]\n",
        "print(sliding_max(nums, 3))  \n"
      ]
    },
    {
      "cell_type": "code",
      "execution_count": null,
      "id": "f17e0cf8-ea4c-4457-bdae-6eba0b9190e6",
      "metadata": {
        "trusted": true
      },
      "outputs": [],
      "source": [
        "\n",
        "# 11.\tFirst non-repeating character in stream.\n",
        "\n",
        "from collections import deque, Counter\n",
        "\n",
        "def first_non_repeating(stream):\n",
        "    q = deque()\n",
        "    count = Counter()\n",
        "    for ch in stream:\n",
        "        count[ch] += 1\n",
        "        q.append(ch)\n",
        "        while q and count[q[0]] > 1:\n",
        "            q.popleft()\n",
        "        print(q[0] if q else '#', end=' ')\n",
        "\n",
        "# Input\n",
        "first_non_repeating(\"aabc\")\n",
        "\n"
      ]
    },
    {
      "cell_type": "code",
      "execution_count": null,
      "id": "4b9bad68-03d7-4d34-9bf1-a206a29adaa1",
      "metadata": {
        "trusted": true
      },
      "outputs": [],
      "source": [
        "\n",
        "# 12.\tPetrol pump circular tour problem.\n",
        "\n",
        "def petrol_pump(petrol, distance):\n",
        "    start = 0\n",
        "    tank = 0\n",
        "    total = 0\n",
        "\n",
        "    for i in range(len(petrol)):\n",
        "        tank += petrol[i] - distance[i]\n",
        "        total += petrol[i] - distance[i]\n",
        "        if tank < 0:\n",
        "            start = i + 1\n",
        "            tank = 0\n",
        "\n",
        "    return start if total >= 0 else -1\n",
        "\n",
        "# Input\n",
        "petrol = [4, 6, 7, 4]\n",
        "distance = [6, 5, 3, 5]\n",
        "print(petrol_pump(petrol, distance))  \n"
      ]
    },
    {
      "cell_type": "code",
      "execution_count": null,
      "id": "09fcd928-38b1-49a5-849c-d2fd717049c7",
      "metadata": {
        "trusted": true
      },
      "outputs": [],
      "source": [
        "\n",
        "# 13.\tJob scheduling with deadlines using priority queue.\n",
        "\n",
        "import heapq\n",
        "\n",
        "def job_scheduling(jobs):\n",
        "    jobs.sort(key=lambda x: x[1])  # Sort by deadline\n",
        "    max_heap = []\n",
        "    for profit, deadline in jobs:\n",
        "        heapq.heappush(max_heap, -profit)\n",
        "        if len(max_heap) > deadline:\n",
        "            heapq.heappop(max_heap)\n",
        "    return -sum(max_heap)\n",
        "\n",
        "# Input\n",
        "jobs = [(100, 2), (19, 1), (27, 2), (25, 1), (15, 3)]\n",
        "print(job_scheduling(jobs))  \n"
      ]
    },
    {
      "cell_type": "code",
      "execution_count": 98,
      "id": "aed357ed-60dd-4af4-9373-56df800d7970",
      "metadata": {
        "trusted": true
      },
      "outputs": [
        {
          "name": "stdout",
          "output_type": "stream",
          "text": [
            "1\n",
            "-1\n"
          ]
        }
      ],
      "source": [
        "\n",
        "# 14.\tLRU Cache design using queue + hashmap.\n",
        "\n",
        "from collections import OrderedDict\n",
        "\n",
        "class LRUCache:\n",
        "    def __init__(self, capacity):\n",
        "        self.cache = OrderedDict()\n",
        "        self.cap = capacity\n",
        "\n",
        "    def get(self, key):\n",
        "        if key not in self.cache:\n",
        "            return -1\n",
        "        self.cache.move_to_end(key)\n",
        "        return self.cache[key]\n",
        "\n",
        "    def put(self, key, value):\n",
        "        if key in self.cache:\n",
        "            self.cache.move_to_end(key)\n",
        "        self.cache[key] = value\n",
        "        if len(self.cache) > self.cap:\n",
        "            self.cache.popitem(last=False)\n",
        "\n",
        "# Input\n",
        "lru = LRUCache(2)\n",
        "lru.put(1, 1)\n",
        "lru.put(2, 2)\n",
        "print(lru.get(1))  \n",
        "lru.put(3, 3)\n",
        "print(lru.get(2))  \n",
        "   "
      ]
    },
    {
      "cell_type": "code",
      "execution_count": 99,
      "id": "a543e42e-d451-4c53-ab4d-49f11b8b7717",
      "metadata": {
        "trusted": true
      },
      "outputs": [
        {
          "name": "stdout",
          "output_type": "stream",
          "text": [
            "3\n",
            "0\n"
          ]
        }
      ],
      "source": [
        "\n",
        "# 15.\tHit counter using queue.\n",
        "\n",
        "from collections import deque\n",
        "\n",
        "class HitCounter:\n",
        "    def __init__(self):\n",
        "        self.q = deque()\n",
        "\n",
        "    def hit(self, timestamp):\n",
        "        self.q.append(timestamp)\n",
        "\n",
        "    def get_hits(self, current_time):\n",
        "        while self.q and self.q[0] <= current_time - 300:\n",
        "            self.q.popleft()\n",
        "        return len(self.q)\n",
        "\n",
        "# Input\n",
        "hc = HitCounter()\n",
        "hc.hit(1)\n",
        "hc.hit(100)\n",
        "hc.hit(300)\n",
        "print(hc.get_hits(300)) \n",
        "hc.hit(301)\n",
        "print(hc.get_hits(601))  \n"
      ]
    },
    {
      "cell_type": "code",
      "execution_count": 100,
      "id": "eb5a3273-761a-4137-a43c-b282be596174",
      "metadata": {
        "trusted": true
      },
      "outputs": [
        {
          "name": "stdout",
          "output_type": "stream",
          "text": [
            "2\n",
            "2\n"
          ]
        }
      ],
      "source": [
        "\n",
        "# 16.\tImplement stack using queue.\n",
        "\n",
        "from collections import deque\n",
        "\n",
        "class StackUsingQueue:\n",
        "    def __init__(self):\n",
        "        self.q = deque()\n",
        "\n",
        "    def push(self, x):\n",
        "        self.q.append(x)\n",
        "        for _ in range(len(self.q) - 1):\n",
        "            self.q.append(self.q.popleft())\n",
        "\n",
        "    def pop(self):\n",
        "        return self.q.popleft() if self.q else \"Empty\"\n",
        "\n",
        "    def top(self):\n",
        "        return self.q[0] if self.q else \"Empty\"\n",
        "\n",
        "# Input\n",
        "s = StackUsingQueue()\n",
        "s.push(1)\n",
        "s.push(2)\n",
        "print(s.top())  \n",
        "print(s.pop())  \n"
      ]
    },
    {
      "cell_type": "code",
      "execution_count": 101,
      "id": "1290e777-4efd-4060-a5d0-ec63230e4581",
      "metadata": {
        "trusted": true
      },
      "outputs": [
        {
          "ename": "<class 'IndentationError'>",
          "evalue": "unexpected indent (3646375816.py, line 3)",
          "output_type": "error",
          "traceback": [
            "  \u001b[36mCell\u001b[39m\u001b[36m \u001b[39m\u001b[32mIn[101]\u001b[39m\u001b[32m, line 3\u001b[39m\n\u001b[31m    \u001b[39m\u001b[31mclass QueueUsingStack:\u001b[39m\n    ^\n\u001b[31mIndentationError\u001b[39m\u001b[31m:\u001b[39m unexpected indent\n"
          ]
        }
      ],
      "source": [
        "\n",
        "# 17.\tImplement queue using stack.\n",
        "\n",
        " class QueueUsingStack:\n",
        "    def __init__(self):\n",
        "        self.in_stack = []\n",
        "        self.out_stack = []\n",
        "\n",
        "    def enqueue(self, x):\n",
        "        self.in_stack.append(x)\n",
        "\n",
        "    def dequeue(self):\n",
        "        if not self.out_stack:\n",
        "            while self.in_stack:\n",
        "                self.out_stack.append(self.in_stack.pop())\n",
        "        return self.out_stack.pop() if self.out_stack else \"Empty\"\n",
        "\n",
        "# Input\n",
        "q = QueueUsingStack()\n",
        "q.enqueue(10)\n",
        "q.enqueue(20)\n",
        "print(q.dequeue())  \n",
        "   "
      ]
    },
    {
      "cell_type": "code",
      "execution_count": 103,
      "id": "96d92ca1-e150-4118-bd07-4e14c5e8bab2",
      "metadata": {
        "trusted": true
      },
      "outputs": [
        {
          "name": "stdout",
          "output_type": "stream",
          "text": [
            "39\n"
          ]
        }
      ],
      "source": [
        "\n",
        "# 18.\tMaximum sum subarray of size k.\n",
        "\n",
        "def max_sum_subarray(arr, k):\n",
        "    max_sum = curr_sum = sum(arr[:k])\n",
        "    for i in range(k, len(arr)):\n",
        "        curr_sum += arr[i] - arr[i - k]\n",
        "        max_sum = max(max_sum, curr_sum)\n",
        "    return max_sum\n",
        "\n",
        "# Input\n",
        "arr = [1, 4, 2, 10, 23, 3, 1, 0, 20]\n",
        "print(max_sum_subarray(arr, 4))  \n"
      ]
    },
    {
      "cell_type": "code",
      "execution_count": 104,
      "id": "4d4bf3ea-e116-4a35-b12d-d21a5da0b292",
      "metadata": {
        "trusted": true
      },
      "outputs": [
        {
          "name": "stdout",
          "output_type": "stream",
          "text": [
            "4\n"
          ]
        }
      ],
      "source": [
        "\n",
        "# 19.\tMinimum time to rot all oranges.\n",
        "\n",
        "from collections import deque\n",
        "\n",
        "def rot_oranges(grid):\n",
        "    rows, cols = len(grid), len(grid[0])\n",
        "    q = deque()\n",
        "    fresh = 0\n",
        "\n",
        "    for r in range(rows):\n",
        "        for c in range(cols):\n",
        "            if grid[r][c] == 2:\n",
        "                q.append((r, c, 0))\n",
        "            elif grid[r][c] == 1:\n",
        "                fresh += 1\n",
        "\n",
        "    time = 0\n",
        "    directions = [(0,1),(1,0),(-1,0),(0,-1)]\n",
        "    while q:\n",
        "        r, c, t = q.popleft()\n",
        "        time = max(time, t)\n",
        "        for dr, dc in directions:\n",
        "            nr, nc = r + dr, c + dc\n",
        "            if 0 <= nr < rows and 0 <= nc < cols and grid[nr][nc] == 1:\n",
        "                grid[nr][nc] = 2\n",
        "                fresh -= 1\n",
        "                q.append((nr, nc, t + 1))\n",
        "\n",
        "    return time if fresh == 0 else -1\n",
        "\n",
        "# Input\n",
        "grid = [[2,1,1],[1,1,0],[0,1,1]]\n",
        "print(rot_oranges(grid))  \n"
      ]
    },
    {
      "cell_type": "code",
      "execution_count": 105,
      "id": "7946f13d-4c44-44cd-a13c-354e039b5b60",
      "metadata": {
        "trusted": true
      },
      "outputs": [
        {
          "name": "stdout",
          "output_type": "stream",
          "text": [
            "1 2 3 "
          ]
        }
      ],
      "source": [
        "\n",
        "# 20.\tPrint binary tree level order using queue.\n",
        "\n",
        "from collections import deque\n",
        "\n",
        "class TreeNode:\n",
        "    def __init__(self, val):\n",
        "        self.val = val\n",
        "        self.left = self.right = None\n",
        "\n",
        "def level_order(root):\n",
        "    if not root:\n",
        "        return\n",
        "    q = deque([root])\n",
        "    while q:\n",
        "        node = q.popleft()\n",
        "        print(node.val, end=\" \")\n",
        "        if node.left:\n",
        "            q.append(node.left)\n",
        "        if node.right:\n",
        "            q.append(node.right)\n",
        "\n",
        "# Input\n",
        "root = TreeNode(1)\n",
        "root.left = TreeNode(2)\n",
        "root.right = TreeNode(3)\n",
        "level_order(root)  \n"
      ]
    },
    {
      "cell_type": "code",
      "execution_count": 106,
      "id": "eb6eeed1-9459-4ae7-ba12-b420a952d70b",
      "metadata": {
        "trusted": true
      },
      "outputs": [
        {
          "name": "stdout",
          "output_type": "stream",
          "text": [
            "[2, 1, 2]\n",
            "[1, 0, 1]\n",
            "[2, 1, 2]\n"
          ]
        }
      ],
      "source": [
        "\n",
        "# 21.\tDistance of nearest 1 in a binary matrix.\n",
        "\n",
        "from collections import deque\n",
        "\n",
        "def nearest_one(matrix):\n",
        "    rows, cols = len(matrix), len(matrix[0])\n",
        "    dist = [[-1]*cols for _ in range(rows)]\n",
        "    q = deque()\n",
        "\n",
        "    for r in range(rows):\n",
        "        for c in range(cols):\n",
        "            if matrix[r][c] == 1:\n",
        "                dist[r][c] = 0\n",
        "                q.append((r, c))\n",
        "\n",
        "    directions = [(0,1),(1,0),(-1,0),(0,-1)]\n",
        "    while q:\n",
        "        r, c = q.popleft()\n",
        "        for dr, dc in directions:\n",
        "            nr, nc = r + dr, c + dc\n",
        "            if 0 <= nr < rows and 0 <= nc < cols and dist[nr][nc] == -1:\n",
        "                dist[nr][nc] = dist[r][c] + 1\n",
        "                q.append((nr, nc))\n",
        "\n",
        "    return dist\n",
        "\n",
        "# Input\n",
        "matrix = [[0,0,0],[0,1,0],[0,0,0]]\n",
        "for row in nearest_one(matrix):\n",
        "    print(row)\n"
      ]
    },
    {
      "cell_type": "code",
      "execution_count": 107,
      "id": "99db3138-201f-4a7a-b6da-5d59110f0e99",
      "metadata": {
        "trusted": true
      },
      "outputs": [
        {
          "name": "stdout",
          "output_type": "stream",
          "text": [
            "Alice gets ticket\n",
            "Bob gets ticket\n",
            "Charlie gets ticket\n"
          ]
        }
      ],
      "source": [
        "\n",
        "# 22.\tTicket counter simulation.\n",
        "\n",
        "from collections import deque\n",
        "\n",
        "def ticket_counter(names, k):\n",
        "    q = deque(names)\n",
        "    while q:\n",
        "        person = q.popleft()\n",
        "        print(f\"{person} gets ticket\")\n",
        "        k -= 1\n",
        "        if k == 0:\n",
        "            break\n",
        "\n",
        "# Input\n",
        "ticket_counter([\"Alice\", \"Bob\", \"Charlie\", \"David\"], 3)\n"
      ]
    },
    {
      "cell_type": "code",
      "execution_count": 108,
      "id": "994b5c99-823d-484f-bcd4-93308ffb7e62",
      "metadata": {
        "trusted": true
      },
      "outputs": [
        {
          "name": "stdout",
          "output_type": "stream",
          "text": [
            "P1 runs for 4\n",
            "P2 finishes in 3\n",
            "P3 runs for 4\n",
            "P1 finishes in 1\n",
            "P3 finishes in 4\n",
            "Total time: 16\n"
          ]
        }
      ],
      "source": [
        "\n",
        "# 23.\tBanker’s algorithm (round robin scheduling).\n",
        "\n",
        "def round_robin(jobs, quantum):\n",
        "    time = 0\n",
        "    q = deque(jobs)\n",
        "    while q:\n",
        "        job = q.popleft()\n",
        "        name, burst = job\n",
        "        if burst > quantum:\n",
        "            print(f\"{name} runs for {quantum}\")\n",
        "            q.append((name, burst - quantum))\n",
        "            time += quantum\n",
        "        else:\n",
        "            print(f\"{name} finishes in {burst}\")\n",
        "            time += burst\n",
        "    print(\"Total time:\", time)\n",
        "\n",
        "# Input\n",
        "round_robin([(\"P1\", 5), (\"P2\", 3), (\"P3\", 8)], 4)\n"
      ]
    },
    {
      "cell_type": "code",
      "execution_count": 109,
      "id": "a4e418a9-6f1b-47d1-b792-5ca8fcf1c0ed",
      "metadata": {
        "trusted": true
      },
      "outputs": [
        {
          "name": "stdout",
          "output_type": "stream",
          "text": [
            "1\n"
          ]
        }
      ],
      "source": [
        "\n",
        "# 24.\tDesign circular tour for buses problem.\n",
        "\n",
        "def circular_tour(petrol, distance):\n",
        "    start = 0\n",
        "    tank = 0\n",
        "    total = 0\n",
        "    for i in range(len(petrol)):\n",
        "        tank += petrol[i] - distance[i]\n",
        "        total += petrol[i] - distance[i]\n",
        "        if tank < 0:\n",
        "            start = i + 1\n",
        "            tank = 0\n",
        "    return start if total >= 0 else -1\n",
        "\n",
        "# Input\n",
        "print(circular_tour([4,6,7,4], [6,5,3,5]))  \n"
      ]
    },
    {
      "cell_type": "code",
      "execution_count": 110,
      "id": "7ce9f8a2-ebb2-4990-aadd-7617f5cca7df",
      "metadata": {
        "trusted": true
      },
      "outputs": [
        {
          "name": "stdout",
          "output_type": "stream",
          "text": [
            "D\n"
          ]
        }
      ],
      "source": [
        "\n",
        "# 25.\tHot potato (Josephus problem using queue).\n",
        "\n",
        "from collections import deque\n",
        "\n",
        "def hot_potato(names, num):\n",
        "    q = deque(names)\n",
        "    while len(q) > 1:\n",
        "        for _ in range(num - 1):\n",
        "            q.append(q.popleft())\n",
        "        q.popleft()\n",
        "    return q[0]\n",
        "\n",
        "# Input\n",
        "print(hot_potato([\"A\", \"B\", \"C\", \"D\", \"E\"], 3))  \n"
      ]
    },
    {
      "cell_type": "code",
      "execution_count": null,
      "id": "68176f8e-7001-4c44-830a-5cc2da9d97df",
      "metadata": {
        "trusted": true
      },
      "outputs": [],
      "source": [
        "\n",
        "# ------------------- 25 Problems on Linked Lists--------------------\n"
      ]
    },
    {
      "cell_type": "code",
      "execution_count": 58,
      "id": "7db1a262-76eb-40f0-bdbe-6676bd6bbe3b",
      "metadata": {
        "trusted": true
      },
      "outputs": [
        {
          "name": "stdout",
          "output_type": "stream",
          "text": [
            "1 -> 2 -> 3 -> None\n"
          ]
        }
      ],
      "source": [
        "\n",
        "# 1.\tImplement singly linked list.\n",
        "\n",
        "class Node:\n",
        "    def __init__(self, data):\n",
        "        self.data = data  # Store data\n",
        "        self.next = None  # Pointer to next node\n",
        "\n",
        "class SinglyLinkedList:\n",
        "    def __init__(self):\n",
        "        self.head = None  # Initialize empty list\n",
        "\n",
        "    def append(self, data):\n",
        "        # Add node at end\n",
        "        new_node = Node(data)\n",
        "        if not self.head:\n",
        "            self.head = new_node\n",
        "            return\n",
        "        curr = self.head\n",
        "        while curr.next:\n",
        "            curr = curr.next\n",
        "        curr.next = new_node\n",
        "\n",
        "    def print_list(self):\n",
        "        # Print all nodes\n",
        "        curr = self.head\n",
        "        while curr:\n",
        "            print(curr.data, end=\" -> \")\n",
        "            curr = curr.next\n",
        "        print(\"None\")\n",
        "\n",
        "# Input \n",
        "ll = SinglyLinkedList()\n",
        "ll.append(1)\n",
        "ll.append(2)\n",
        "ll.append(3)\n",
        "ll.print_list()  \n"
      ]
    },
    {
      "cell_type": "code",
      "execution_count": 59,
      "id": "65e23bf7-5761-4971-8246-e8b4f054a2af",
      "metadata": {
        "trusted": true
      },
      "outputs": [
        {
          "name": "stdout",
          "output_type": "stream",
          "text": [
            "1 <-> 2 <-> 3 <-> None\n"
          ]
        }
      ],
      "source": [
        "\n",
        "# 2.\tImplement doubly linked list.\n",
        "\n",
        "class Node:\n",
        "    def __init__(self, data):\n",
        "        self.data = data\n",
        "        self.next = None\n",
        "        self.prev = None  # Pointer to previous node\n",
        "\n",
        "class DoublyLinkedList:\n",
        "    def __init__(self):\n",
        "        self.head = None\n",
        "\n",
        "    def append(self, data):\n",
        "        new_node = Node(data)\n",
        "        if not self.head:\n",
        "            self.head = new_node\n",
        "            return\n",
        "        curr = self.head\n",
        "        while curr.next:\n",
        "            curr = curr.next\n",
        "        curr.next = new_node\n",
        "        new_node.prev = curr  # Link back to previous node\n",
        "\n",
        "    def print_list(self):\n",
        "        curr = self.head\n",
        "        while curr:\n",
        "            print(curr.data, end=\" <-> \")\n",
        "            curr = curr.next\n",
        "        print(\"None\")\n",
        "\n",
        "# Input \n",
        "dll = DoublyLinkedList()\n",
        "dll.append(1)\n",
        "dll.append(2)\n",
        "dll.append(3)\n",
        "dll.print_list()  \n"
      ]
    },
    {
      "cell_type": "code",
      "execution_count": 60,
      "id": "0936b1d6-db13-435d-9d5c-7bab9d828c3e",
      "metadata": {
        "trusted": true
      },
      "outputs": [
        {
          "name": "stdout",
          "output_type": "stream",
          "text": [
            "1 -> 2 -> 3 -> (head)\n"
          ]
        }
      ],
      "source": [
        "\n",
        "# 3.\tImplement circular linked list.\n",
        "\n",
        "class Node:\n",
        "    def __init__(self, data):\n",
        "        self.data = data\n",
        "        self.next = None\n",
        "\n",
        "class CircularLinkedList:\n",
        "    def __init__(self):\n",
        "        self.head = None\n",
        "\n",
        "    def append(self, data):\n",
        "        new_node = Node(data)\n",
        "        if not self.head:\n",
        "            self.head = new_node\n",
        "            new_node.next = self.head  # Point to itself\n",
        "            return\n",
        "        curr = self.head\n",
        "        while curr.next != self.head:\n",
        "            curr = curr.next\n",
        "        curr.next = new_node\n",
        "        new_node.next = self.head  # Close the loop\n",
        "\n",
        "    def print_list(self):\n",
        "        if not self.head:\n",
        "            print(\"Empty list\")\n",
        "            return\n",
        "        curr = self.head\n",
        "        while True:\n",
        "            print(curr.data, end=\" -> \")\n",
        "            curr = curr.next\n",
        "            if curr == self.head:\n",
        "                break\n",
        "        print(\"(head)\")\n",
        "\n",
        "# Input\n",
        "cll = CircularLinkedList()\n",
        "cll.append(1)\n",
        "cll.append(2)\n",
        "cll.append(3)\n",
        "cll.print_list() \n"
      ]
    },
    {
      "cell_type": "code",
      "execution_count": 61,
      "id": "10503292-8715-447d-b55c-9f3f581af943",
      "metadata": {
        "trusted": true
      },
      "outputs": [
        {
          "name": "stdout",
          "output_type": "stream",
          "text": [
            "3 -> 2 -> 1 -> None\n"
          ]
        }
      ],
      "source": [
        "\n",
        "# 4.\tReverse a linked list.\n",
        "\n",
        "def reverse_linked_list(head):\n",
        "    prev = None\n",
        "    curr = head\n",
        "    # Iterate and reverse pointers\n",
        "    while curr:\n",
        "        next_node = curr.next\n",
        "        curr.next = prev\n",
        "        prev = curr\n",
        "        curr = next_node\n",
        "    return prev  # New head\n",
        "\n",
        "# Input\n",
        "ll = SinglyLinkedList()\n",
        "ll.append(1)\n",
        "ll.append(2)\n",
        "ll.append(3)\n",
        "ll.head = reverse_linked_list(ll.head)\n",
        "ll.print_list()  \n"
      ]
    },
    {
      "cell_type": "code",
      "execution_count": 62,
      "id": "d6274352-1cb4-4972-ac20-1b5830fdc632",
      "metadata": {
        "trusted": true
      },
      "outputs": [
        {
          "name": "stdout",
          "output_type": "stream",
          "text": [
            "True\n"
          ]
        }
      ],
      "source": [
        "\n",
        "# 5.\tDetect loop in linked list (Floyd’s cycle).\n",
        "\n",
        "def detect_loop(head):\n",
        "    slow = fast = head\n",
        "    # Move slow by 1 and fast by 2 steps\n",
        "    while fast and fast.next:\n",
        "        slow = slow.next\n",
        "        fast = fast.next.next\n",
        "        if slow == fast:\n",
        "            return True  # Loop detected\n",
        "    return False\n",
        "\n",
        "# Input\n",
        "ll = SinglyLinkedList()\n",
        "ll.append(1)\n",
        "ll.append(2)\n",
        "ll.append(3)\n",
        "ll.head.next.next.next = ll.head.next  # Create loop\n",
        "print(detect_loop(ll.head))  \n",
        "\n"
      ]
    },
    {
      "cell_type": "code",
      "execution_count": 63,
      "id": "749dfe65-5477-4381-a515-64da3238519a",
      "metadata": {
        "trusted": true
      },
      "outputs": [
        {
          "name": "stdout",
          "output_type": "stream",
          "text": [
            "False\n"
          ]
        }
      ],
      "source": [
        "\n",
        "# 6.\tRemove loop in linked list.\n",
        "\n",
        "def remove_loop(head):\n",
        "    slow = fast = head\n",
        "    # Detect loop\n",
        "    while fast and fast.next:\n",
        "        slow = slow.next\n",
        "        fast = fast.next.next\n",
        "        if slow == fast:\n",
        "            break\n",
        "    else:\n",
        "        return  # No loop\n",
        "\n",
        "    # Find start of loop\n",
        "    slow = head\n",
        "    while slow.next != fast.next:\n",
        "        slow = slow.next\n",
        "        fast = fast.next\n",
        "    fast.next = None  # Remove loop\n",
        "\n",
        "# Input\n",
        "ll = SinglyLinkedList()\n",
        "ll.append(1)\n",
        "ll.append(2)\n",
        "ll.append(3)\n",
        "ll.head.next.next.next = ll.head.next  # Loop\n",
        "remove_loop(ll.head)\n",
        "print(detect_loop(ll.head))  # Output: False\n"
      ]
    },
    {
      "cell_type": "code",
      "execution_count": 64,
      "id": "05619daa-503b-4fe2-8b82-1deabf6f0322",
      "metadata": {
        "trusted": true
      },
      "outputs": [
        {
          "name": "stdout",
          "output_type": "stream",
          "text": [
            "3\n"
          ]
        }
      ],
      "source": [
        "\n",
        "# 7.\tFind middle node of linked list.\n",
        "\n",
        "def find_middle(head):\n",
        "    slow = fast = head\n",
        "    # Move fast by 2 and slow by 1\n",
        "    while fast and fast.next:\n",
        "        slow = slow.next\n",
        "        fast = fast.next.next\n",
        "    return slow.data if slow else None\n",
        "\n",
        "# Input\n",
        "ll = SinglyLinkedList()\n",
        "for i in range(1, 6):\n",
        "    ll.append(i)\n",
        "print(find_middle(ll.head))  \n"
      ]
    },
    {
      "cell_type": "code",
      "execution_count": null,
      "id": "691d7001-7e70-4a2d-8c87-9bc986ba6fff",
      "metadata": {
        "trusted": true
      },
      "outputs": [],
      "source": [
        "\n",
        "# 8.\tFind nth node from end.\n",
        "\n",
        "def nth_from_end(head, n):\n",
        "    first = second = head\n",
        "    # Move first n steps ahead\n",
        "    for _ in range(n):\n",
        "        if not first:\n",
        "            return None\n",
        "        first = first.next\n",
        "    # Move both pointers until first reaches end\n",
        "    while first:\n",
        "        first = first.next\n",
        "        second = second.next\n",
        "    return second.data if second else None\n",
        "\n",
        "# Input\n",
        "ll = SinglyLinkedList()\n",
        "for i in range(1, 6):\n",
        "    ll.append(i)\n",
        "print(nth_from_end(ll.head, 2))  \n"
      ]
    },
    {
      "cell_type": "code",
      "execution_count": 65,
      "id": "d0b76d9c-b4e2-4564-af18-3a84240e2fc8",
      "metadata": {
        "trusted": true
      },
      "outputs": [
        {
          "name": "stdout",
          "output_type": "stream",
          "text": [
            "4\n"
          ]
        }
      ],
      "source": [
        "\n",
        "# 9.\tMerge two sorted linked lists.\n",
        "\n",
        "def nth_from_end(head, n):\n",
        "    first = second = head\n",
        "    # Move first n steps ahead\n",
        "    for _ in range(n):\n",
        "        if not first:\n",
        "            return None\n",
        "        first = first.next\n",
        "    # Move both pointers until first reaches end\n",
        "    while first:\n",
        "        first = first.next\n",
        "        second = second.next\n",
        "    return second.data if second else None\n",
        "\n",
        "# Input\n",
        "ll = SinglyLinkedList()\n",
        "for i in range(1, 6):\n",
        "    ll.append(i)\n",
        "print(nth_from_end(ll.head, 2))  \n",
        "\n",
        "    "
      ]
    },
    {
      "cell_type": "code",
      "execution_count": 66,
      "id": "eab8a099-be74-4738-9cb8-cef94e83e46b",
      "metadata": {
        "trusted": true
      },
      "outputs": [
        {
          "name": "stdout",
          "output_type": "stream",
          "text": [
            "7 -> 0 -> 8 -> None\n"
          ]
        }
      ],
      "source": [
        "\n",
        "# 10.\tAdd two numbers represented by linked lists.\n",
        "\n",
        "def add_two_numbers(l1, l2):\n",
        "    dummy = Node(0)\n",
        "    curr = dummy\n",
        "    carry = 0\n",
        "    # Add digits and carry\n",
        "    while l1 or l2 or carry:\n",
        "        val1 = l1.data if l1 else 0\n",
        "        val2 = l2.data if l2 else 0\n",
        "        total = val1 + val2 + carry\n",
        "        carry = total // 10\n",
        "        curr.next = Node(total % 10)\n",
        "        curr = curr.next\n",
        "        l1 = l1.next if l1 else None\n",
        "        l2 = l2.next if l2 else None\n",
        "    return dummy.next\n",
        "\n",
        "# Input\n",
        "l1 = SinglyLinkedList()\n",
        "l2 = SinglyLinkedList()\n",
        "for val in [2,4,3]:  # Number 342\n",
        "    l1.append(val)\n",
        "for val in [5,6,4]:  # Number 465\n",
        "    l2.append(val)\n",
        "result = add_two_numbers(l1.head, l2.head)\n",
        "curr = result\n",
        "while curr:\n",
        "    print(curr.data, end=\" -> \")\n",
        "    curr = curr.next\n",
        "print(\"None\")  \n"
      ]
    },
    {
      "cell_type": "code",
      "execution_count": 68,
      "id": "c560eb35-2c2c-489b-88ef-21de544470b3",
      "metadata": {
        "trusted": true
      },
      "outputs": [
        {
          "name": "stdout",
          "output_type": "stream",
          "text": [
            "True\n"
          ]
        }
      ],
      "source": [
        "\n",
        "# 11.\tCheck if linked list is palindrome.\n",
        "\n",
        "def is_palindrome(head):\n",
        "    # Find middle\n",
        "    slow = fast = head\n",
        "    stack = []\n",
        "    while fast and fast.next:\n",
        "        stack.append(slow.data)\n",
        "        slow = slow.next\n",
        "        fast = fast.next.next\n",
        "    # Skip middle for odd length\n",
        "    if fast:\n",
        "        slow = slow.next\n",
        "    # Compare second half with stack\n",
        "    while slow:\n",
        "        if stack.pop() != slow.data:\n",
        "            return False\n",
        "        slow = slow.next\n",
        "    return True\n",
        "\n",
        "# Input\n",
        "ll = SinglyLinkedList()\n",
        "for val in [1,2,3,2,1]:\n",
        "    ll.append(val)\n",
        "print(is_palindrome(ll.head))  \n"
      ]
    },
    {
      "cell_type": "code",
      "execution_count": 69,
      "id": "e06bb065-b9e1-4f59-a361-cde4a9d2adc5",
      "metadata": {
        "trusted": true
      },
      "outputs": [
        {
          "name": "stdout",
          "output_type": "stream",
          "text": [
            "2\n"
          ]
        }
      ],
      "source": [
        "\n",
        "# 12.\tIntersection point of two linked lists.\n",
        "\n",
        "def get_intersection_node(headA, headB):\n",
        "    # Get lengths\n",
        "    def length(head):\n",
        "        count = 0\n",
        "        curr = head\n",
        "        while curr:\n",
        "            count += 1\n",
        "            curr = curr.next\n",
        "        return count\n",
        "\n",
        "    lenA, lenB = length(headA), length(headB)\n",
        "    currA, currB = headA, headB\n",
        "\n",
        "    # Advance longer list\n",
        "    for _ in range(abs(lenA - lenB)):\n",
        "        if lenA > lenB:\n",
        "            currA = currA.next\n",
        "        else:\n",
        "            currB = currB.next\n",
        "\n",
        "    # Move both pointers until intersection\n",
        "    while currA and currB:\n",
        "        if currA == currB:\n",
        "            return currA.data\n",
        "        currA = currA.next\n",
        "        currB = currB.next\n",
        "    return None\n",
        "\n",
        "# Input\n",
        "ll1 = SinglyLinkedList()\n",
        "ll2 = SinglyLinkedList()\n",
        "for val in [1,2,3]:\n",
        "    ll1.append(val)\n",
        "for val in [6,7]:\n",
        "    ll2.append(val)\n",
        "# Create intersection\n",
        "ll2.head.next.next = ll1.head.next  # Point 7's next to 2 in ll1\n",
        "print(get_intersection_node(ll1.head, ll2.head))  \n"
      ]
    },
    {
      "cell_type": "code",
      "execution_count": 70,
      "id": "9a09fefc-df1e-499a-bf31-5cedfc230cd0",
      "metadata": {
        "trusted": true
      },
      "outputs": [
        {
          "name": "stdout",
          "output_type": "stream",
          "text": [
            "True\n"
          ]
        }
      ],
      "source": [
        "\n",
        "# 13.\tDetect intersection of two linked lists.\n",
        "\n",
        "def do_intersect(headA, headB):\n",
        "    # Get tail nodes\n",
        "    def get_tail(head):\n",
        "        curr = head\n",
        "        while curr.next:\n",
        "            curr = curr.next\n",
        "        return curr\n",
        "\n",
        "    if not headA or not headB:\n",
        "        return False\n",
        "    return get_tail(headA) == get_tail(headB)\n",
        "\n",
        "# Input\n",
        "print(do_intersect(ll1.head, ll2.head))  \n"
      ]
    },
    {
      "cell_type": "code",
      "execution_count": 78,
      "id": "091bc626-ae2b-45b0-bde8-e9d611cde855",
      "metadata": {
        "trusted": true
      },
      "outputs": [
        {
          "name": "stdout",
          "output_type": "stream",
          "text": [
            "Node data: 1, Random points to: 3\n",
            "Node data: 2, Random points to: 1\n",
            "Node data: 3, Random points to: 2\n"
          ]
        }
      ],
      "source": [
        "\n",
        "# 14.\tClone a linked list with random pointers.\n",
        "\n",
        "class RandomNode:\n",
        "    def __init__(self, data):\n",
        "        self.data = data          # Node's data\n",
        "        self.next = None          # Pointer to next node\n",
        "        self.random = None        # Pointer to random node\n",
        "\n",
        "def clone_random_list(head):\n",
        "    if not head:\n",
        "        return None\n",
        "\n",
        "    curr = head\n",
        "    # Step 1: Insert cloned nodes just after original nodes\n",
        "    while curr:\n",
        "        new_node = RandomNode(curr.data)\n",
        "        new_node.next = curr.next\n",
        "        curr.next = new_node\n",
        "        curr = new_node.next\n",
        "\n",
        "    # Step 2: Assign random pointers for cloned nodes\n",
        "    curr = head\n",
        "    while curr:\n",
        "        if curr.random:\n",
        "            curr.next.random = curr.random.next\n",
        "        curr = curr.next.next\n",
        "\n",
        "    # Step 3: Separate the cloned list from original list\n",
        "    curr = head\n",
        "    clone_head = head.next\n",
        "    while curr:\n",
        "        clone = curr.next\n",
        "        curr.next = clone.next\n",
        "        clone.next = clone.next.next if clone.next else None\n",
        "        curr = curr.next\n",
        "\n",
        "    return clone_head\n",
        "\n",
        "# Input\n",
        "# Create list: 1 -> 2 -> 3\n",
        "head = RandomNode(1)\n",
        "head.next = RandomNode(2)\n",
        "head.next.next = RandomNode(3)\n",
        "\n",
        "# Setup random pointers\n",
        "head.random = head.next.next  # 1's random -> 3\n",
        "head.next.random = head        # 2's random -> 1\n",
        "head.next.next.random = head.next  # 3's random -> 2\n",
        "\n",
        "cloned_head = clone_random_list(head)\n",
        "\n",
        "# Print cloned list data and random data\n",
        "curr = cloned_head\n",
        "while curr:\n",
        "    random_data = curr.random.data if curr.random else None\n",
        "    print(f\"Node data: {curr.data}, Random points to: {random_data}\")\n",
        "    curr = curr.next\n",
        "\n",
        "\n"
      ]
    },
    {
      "cell_type": "code",
      "execution_count": 79,
      "id": "d968088e-ca5d-4e6d-b9dc-dcd28083b216",
      "metadata": {
        "trusted": true
      },
      "outputs": [
        {
          "name": "stdout",
          "output_type": "stream",
          "text": [
            "1 -> 2 -> 7 -> 8 -> 11 -> 12 -> 9 -> 10 -> 3 -> 4 -> 5 -> 6 -> None\n"
          ]
        }
      ],
      "source": [
        "\n",
        "# 15.\tFlatten a multilevel linked list.\n",
        "\n",
        "class MultiLevelNode:\n",
        "    def __init__(self, data):\n",
        "        self.data = data          # Node's data\n",
        "        self.next = None          # Pointer to next node\n",
        "        self.child = None         # Pointer to child linked list\n",
        "\n",
        "def flatten_list(head):\n",
        "    if not head:\n",
        "        return None\n",
        "\n",
        "    curr = head\n",
        "    stack = []\n",
        "\n",
        "    while curr:\n",
        "        # If current node has a child, process it\n",
        "        if curr.child:\n",
        "            # If current node has next, push it to stack to process later\n",
        "            if curr.next:\n",
        "                stack.append(curr.next)\n",
        "            # Link child as next node\n",
        "            curr.next = curr.child\n",
        "            curr.child = None\n",
        "        # If no next node and stack not empty, pop from stack and link\n",
        "        if not curr.next and stack:\n",
        "            curr.next = stack.pop()\n",
        "        curr = curr.next\n",
        "\n",
        "    return head\n",
        "\n",
        "# Input\n",
        "# Create nodes\n",
        "head = MultiLevelNode(1)\n",
        "head.next = MultiLevelNode(2)\n",
        "head.next.next = MultiLevelNode(3)\n",
        "head.next.child = MultiLevelNode(7)\n",
        "head.next.child.next = MultiLevelNode(8)\n",
        "head.next.child.next.child = MultiLevelNode(11)\n",
        "head.next.child.next.child.next = MultiLevelNode(12)\n",
        "head.next.child.next.next = MultiLevelNode(9)\n",
        "head.next.child.next.next.next = MultiLevelNode(10)\n",
        "head.next.next.next = MultiLevelNode(4)\n",
        "head.next.next.next.next = MultiLevelNode(5)\n",
        "head.next.next.next.next.next = MultiLevelNode(6)\n",
        "\n",
        "# Flatten the list\n",
        "flattened_head = flatten_list(head)\n",
        "\n",
        "# Print flattened list\n",
        "curr = flattened_head\n",
        "while curr:\n",
        "    print(curr.data, end=\" -> \")\n",
        "    curr = curr.next\n",
        "print(\"None\")\n",
        "\n",
        "\n"
      ]
    },
    {
      "cell_type": "code",
      "execution_count": 73,
      "id": "0281ef9a-dd05-427a-9087-4d4a16837f4c",
      "metadata": {
        "trusted": true
      },
      "outputs": [
        {
          "name": "stdout",
          "output_type": "stream",
          "text": [
            "4 -> 5 -> 1 -> 2 -> 3 -> None\n"
          ]
        }
      ],
      "source": [
        "\n",
        "# 16.\tRotate linked list by k nodes.\n",
        "\n",
        "def rotate_list(head, k):\n",
        "    if not head or k == 0:\n",
        "        return head\n",
        "    # Compute length and tail\n",
        "    tail = head\n",
        "    length = 1\n",
        "    while tail.next:\n",
        "        tail = tail.next\n",
        "        length += 1\n",
        "    k %= length\n",
        "    if k == 0:\n",
        "        return head\n",
        "    # Find new tail (length-k-1)\n",
        "    new_tail = head\n",
        "    for _ in range(length - k - 1):\n",
        "        new_tail = new_tail.next\n",
        "    new_head = new_tail.next\n",
        "    new_tail.next = None\n",
        "    tail.next = head\n",
        "    return new_head\n",
        "\n",
        "# Input\n",
        "ll = SinglyLinkedList()\n",
        "for i in range(1, 6):\n",
        "    ll.append(i)\n",
        "ll.head = rotate_list(ll.head, 2)\n",
        "ll.print_list()  \n",
        "\n"
      ]
    },
    {
      "cell_type": "code",
      "execution_count": 72,
      "id": "5a638a5b-edaa-401a-8ad5-9988ac766e9b",
      "metadata": {
        "trusted": true
      },
      "outputs": [
        {
          "name": "stdout",
          "output_type": "stream",
          "text": [
            "1 -> 2 -> 2 -> 4 -> 3 -> 5 -> None\n"
          ]
        }
      ],
      "source": [
        "\n",
        "# 17.\tPartition linked list around value x.\n",
        "\n",
        "def partition(head, x):\n",
        "    before_head = before = Node(0)\n",
        "    after_head = after = Node(0)\n",
        "    curr = head\n",
        "    # Separate nodes less than x and greater or equal\n",
        "    while curr:\n",
        "        if curr.data < x:\n",
        "            before.next = curr\n",
        "            before = before.next\n",
        "        else:\n",
        "            after.next = curr\n",
        "            after = after.next\n",
        "        curr = curr.next\n",
        "    after.next = None\n",
        "    before.next = after_head.next\n",
        "    return before_head.next\n",
        "\n",
        "# Input\n",
        "ll = SinglyLinkedList()\n",
        "for val in [1,4,3,2,5,2]:\n",
        "    ll.append(val)\n",
        "ll.head = partition(ll.head, 3)\n",
        "ll.print_list()  "
      ]
    },
    {
      "cell_type": "code",
      "execution_count": 74,
      "id": "efcce0a7-f582-4089-98ad-36bce9e95c9e",
      "metadata": {
        "trusted": true
      },
      "outputs": [
        {
          "name": "stdout",
          "output_type": "stream",
          "text": [
            "1 -> 2 -> 3 -> None\n"
          ]
        }
      ],
      "source": [
        "\n",
        "# 18.\tRemove duplicates from sorted linked list.\n",
        "\n",
        "def remove_duplicates_sorted(head):\n",
        "    curr = head\n",
        "    while curr and curr.next:\n",
        "        if curr.data == curr.next.data:\n",
        "            curr.next = curr.next.next  # Skip duplicate\n",
        "        else:\n",
        "            curr = curr.next\n",
        "    return head\n",
        "\n",
        "# Input\n",
        "ll = SinglyLinkedList()\n",
        "for val in [1,1,2,3,3]:\n",
        "    ll.append(val)\n",
        "ll.head = remove_duplicates_sorted(ll.head)\n",
        "ll.print_list()  \n"
      ]
    },
    {
      "cell_type": "code",
      "execution_count": 75,
      "id": "4b137158-1546-4b8e-a625-c58ec5bebfee",
      "metadata": {
        "trusted": true
      },
      "outputs": [
        {
          "name": "stdout",
          "output_type": "stream",
          "text": [
            "1 -> 2 -> 3 -> None\n"
          ]
        }
      ],
      "source": [
        "\n",
        "# 19.\tRemove duplicates from unsorted linked list.\n",
        "\n",
        "def remove_duplicates_unsorted(head):\n",
        "    seen = set()\n",
        "    curr = head\n",
        "    prev = None\n",
        "    while curr:\n",
        "        if curr.data in seen:\n",
        "            prev.next = curr.next  # Remove duplicate\n",
        "        else:\n",
        "            seen.add(curr.data)\n",
        "            prev = curr\n",
        "        curr = curr.next\n",
        "    return head\n",
        "\n",
        "# Input\n",
        "ll = SinglyLinkedList()\n",
        "for val in [1,2,3,2,1]:\n",
        "    ll.append(val)\n",
        "ll.head = remove_duplicates_unsorted(ll.head)\n",
        "ll.print_list()  \n"
      ]
    },
    {
      "cell_type": "code",
      "execution_count": 76,
      "id": "314d9014-9ad3-4e9e-ac77-aae2512547fa",
      "metadata": {
        "trusted": true
      },
      "outputs": [
        {
          "name": "stdout",
          "output_type": "stream",
          "text": [
            "1 -> 2 -> 3 -> 4 -> None\n"
          ]
        }
      ],
      "source": [
        "\n",
        "# 20.\tSort linked list (merge sort).\n",
        "\n",
        "def merge_sort(head):\n",
        "    if not head or not head.next:\n",
        "        return head\n",
        "\n",
        "    # Split list into halves\n",
        "    def split(head):\n",
        "        slow = fast = head\n",
        "        prev = None\n",
        "        while fast and fast.next:\n",
        "            prev = slow\n",
        "            slow = slow.next\n",
        "            fast = fast.next.next\n",
        "        prev.next = None\n",
        "        return head, slow\n",
        "\n",
        "    # Merge two sorted lists\n",
        "    def merge(l1, l2):\n",
        "        dummy = Node(0)\n",
        "        tail = dummy\n",
        "        while l1 and l2:\n",
        "            if l1.data < l2.data:\n",
        "                tail.next = l1\n",
        "                l1 = l1.next\n",
        "            else:\n",
        "                tail.next = l2\n",
        "                l2 = l2.next\n",
        "            tail = tail.next\n",
        "        tail.next = l1 or l2\n",
        "        return dummy.next\n",
        "\n",
        "    left, right = split(head)\n",
        "    left = merge_sort(left)\n",
        "    right = merge_sort(right)\n",
        "    return merge(left, right)\n",
        "\n",
        "# Input\n",
        "ll = SinglyLinkedList()\n",
        "for val in [4,2,1,3]:\n",
        "    ll.append(val)\n",
        "ll.head = merge_sort(ll.head)\n",
        "ll.print_list()  \n"
      ]
    },
    {
      "cell_type": "code",
      "execution_count": 77,
      "id": "0e55dd28-a348-4c60-a475-919bdaf263f4",
      "metadata": {
        "trusted": true
      },
      "outputs": [
        {
          "name": "stdout",
          "output_type": "stream",
          "text": [
            "8 -> 12 -> 10 -> 4 -> 17 -> 15 -> 5 -> None\n"
          ]
        }
      ],
      "source": [
        "\n",
        "# 21.\tSegregate even and odd nodes.\n",
        "\n",
        "def segregate_even_odd(head):\n",
        "    even_dummy = even_tail = Node(0)\n",
        "    odd_dummy = odd_tail = Node(0)\n",
        "    curr = head\n",
        "    # Separate even and odd nodes\n",
        "    while curr:\n",
        "        if curr.data % 2 == 0:\n",
        "            even_tail.next = curr\n",
        "            even_tail = even_tail.next\n",
        "        else:\n",
        "            odd_tail.next = curr\n",
        "            odd_tail = odd_tail.next\n",
        "        curr = curr.next\n",
        "    even_tail.next = odd_dummy.next\n",
        "    odd_tail.next = None\n",
        "    return even_dummy.next\n",
        "\n",
        "# Input\n",
        "ll = SinglyLinkedList()\n",
        "for val in [17,15,8,12,10,5,4]:\n",
        "    ll.append(val)\n",
        "ll.head = segregate_even_odd(ll.head)\n",
        "ll.print_list()  \n"
      ]
    },
    {
      "cell_type": "code",
      "execution_count": 83,
      "id": "2276cc98-4037-4363-b79f-a271ff3c0ed4",
      "metadata": {
        "trusted": true
      },
      "outputs": [
        {
          "name": "stdout",
          "output_type": "stream",
          "text": [
            "1 -> 2 -> 3 -> (head)\n",
            "4 -> 5 -> (head)\n"
          ]
        }
      ],
      "source": [
        "\n",
        "# 22.\tSplit circular linked list into two halves.\n",
        "\n",
        "def split_circular_list(head):\n",
        "    if not head or head.next == head:\n",
        "        return head, None\n",
        "\n",
        "    slow = head\n",
        "    fast = head.next\n",
        "\n",
        "    # Use slow and fast pointers to find mid\n",
        "    while fast != head and fast.next != head:\n",
        "        slow = slow.next\n",
        "        fast = fast.next.next\n",
        "\n",
        "    head1 = head\n",
        "    head2 = slow.next\n",
        "\n",
        "    slow.next = head1  # First half circular\n",
        "    # Find last node of second half\n",
        "    curr = head2\n",
        "    while curr.next != head:\n",
        "        curr = curr.next\n",
        "    curr.next = head2  # Second half circular\n",
        "\n",
        "    return head1, head2\n",
        "\n",
        "# Helper to print circular list (one full cycle)\n",
        "def print_circular_list(head):\n",
        "    if not head:\n",
        "        print(\"Empty list\")\n",
        "        return\n",
        "    curr = head\n",
        "    while True:\n",
        "        print(curr.data, end=\" -> \")\n",
        "        curr = curr.next\n",
        "        if curr == head:\n",
        "            break\n",
        "    print(\"(head)\")\n",
        "\n",
        "# Input\n",
        "vals = [1, 2, 3, 4, 5]\n",
        "head = Node(vals[0])\n",
        "curr = head\n",
        "for v in vals[1:]:\n",
        "    curr.next = Node(v)\n",
        "    curr = curr.next\n",
        "curr.next = head  # Make circular\n",
        "\n",
        "h1, h2 = split_circular_list(head)\n",
        "print_circular_list(h1)  # Output: 1 -> 2 -> 3 -> (head)\n",
        "print_circular_list(h2)  # Output: 4 -> 5 -> (head)\n"
      ]
    },
    {
      "cell_type": "code",
      "execution_count": 84,
      "id": "a0b3eb75-4e40-4fff-baa9-6125ceb87086",
      "metadata": {
        "trusted": true
      },
      "outputs": [
        {
          "name": "stdout",
          "output_type": "stream",
          "text": [
            "11\n"
          ]
        }
      ],
      "source": [
        "\n",
        "# 23.\tConvert binary linked list to integer.\n",
        "\n",
        "def binary_to_int(head):\n",
        "    num = 0\n",
        "    curr = head\n",
        "    while curr:\n",
        "        num = (num << 1) | curr.data  # Shift left and add bit\n",
        "        curr = curr.next\n",
        "    return num\n",
        "\n",
        "# Input\n",
        "vals = [1, 0, 1, 1]  # Binary 1011 = 11 decimal\n",
        "head = Node(vals[0])\n",
        "curr = head\n",
        "for v in vals[1:]:\n",
        "    curr.next = Node(v)\n",
        "    curr = curr.next\n",
        "\n",
        "print(binary_to_int(head))  \n"
      ]
    },
    {
      "cell_type": "code",
      "execution_count": 86,
      "id": "86fcd5b4-c513-4dda-bd1f-cb7de60334d3",
      "metadata": {
        "trusted": true
      },
      "outputs": [
        {
          "name": "stdout",
          "output_type": "stream",
          "text": [
            "Original List:\n",
            "1 → 2 → 3 → 4 → 5 → 6 → 7\n",
            "\n",
            "List after swapping 2th node from start and end:\n",
            "1 → 6 → 3 → 4 → 5 → 2 → 7\n"
          ]
        }
      ],
      "source": [
        "\n",
        "# 24.\tSwap kth node from beginning and end.\n",
        "\n",
        "class ListNode:\n",
        "    def __init__(self, val=0):\n",
        "        self.val = val\n",
        "        self.next = None\n",
        "\n",
        "def create_linked_list(values):\n",
        "    head = ListNode(values[0])\n",
        "    curr = head\n",
        "    for val in values[1:]:\n",
        "        curr.next = ListNode(val)\n",
        "        curr = curr.next\n",
        "    return head\n",
        "\n",
        "def print_linked_list(head):\n",
        "    while head:\n",
        "        print(head.val, end=\" → \" if head.next else \"\\n\")\n",
        "        head = head.next\n",
        "\n",
        "def swap_kth_node(head, k):\n",
        "    # Step 1: Count total nodes\n",
        "    n = 0\n",
        "    temp = head\n",
        "    while temp:\n",
        "        n += 1\n",
        "        temp = temp.next\n",
        "\n",
        "    if k > n or k <= 0:\n",
        "        print(\"Invalid k\")\n",
        "        return head\n",
        "\n",
        "    # Step 2: Find kth node from start\n",
        "    first = head\n",
        "    for _ in range(k - 1):\n",
        "        first = first.next\n",
        "\n",
        "    # Step 3: Find kth node from end\n",
        "    second = head\n",
        "    for _ in range(n - k):\n",
        "        second = second.next\n",
        "\n",
        "    # Step 4: Swap values\n",
        "    first.val, second.val = second.val, first.val\n",
        "    return head\n",
        "\n",
        "# Input\n",
        "values = [1, 2, 3, 4, 5, 6, 7]\n",
        "k = 2\n",
        "head = create_linked_list(values)\n",
        "\n",
        "print(\"Original List:\")\n",
        "print_linked_list(head)\n",
        "\n",
        "head = swap_kth_node(head, k)\n",
        "\n",
        "print(f\"\\nList after swapping {k}th node from start and end:\")\n",
        "print_linked_list(head)\n"
      ]
    },
    {
      "cell_type": "code",
      "execution_count": 87,
      "id": "c0abe84a-a17f-4005-a4e5-9b711efa3f3d",
      "metadata": {
        "trusted": true
      },
      "outputs": [
        {
          "name": "stdout",
          "output_type": "stream",
          "text": [
            "Original List:\n",
            "1 → 2 → 3 → 4 → 5 → 6 → 7\n",
            "\n",
            "List after reversing in groups of 3:\n",
            "3 → 2 → 1 → 6 → 5 → 4 → 7\n"
          ]
        }
      ],
      "source": [
        "\n",
        "# 25.\tReverse nodes in k-group.\n",
        "\n",
        "class ListNode:\n",
        "    def __init__(self, val=0):\n",
        "        self.val = val\n",
        "        self.next = None\n",
        "\n",
        "def create_linked_list(values):\n",
        "    head = ListNode(values[0])\n",
        "    curr = head\n",
        "    for val in values[1:]:\n",
        "        curr.next = ListNode(val)\n",
        "        curr = curr.next\n",
        "    return head\n",
        "\n",
        "def print_linked_list(head):\n",
        "    while head:\n",
        "        print(head.val, end=\" → \" if head.next else \"\\n\")\n",
        "        head = head.next\n",
        "\n",
        "def reverse_k_group(head, k):\n",
        "    count = 0\n",
        "    node = head\n",
        "    while node and count < k:\n",
        "        node = node.next\n",
        "        count += 1\n",
        "\n",
        "    if count < k:\n",
        "        return head\n",
        "\n",
        "    prev = None\n",
        "    curr = head\n",
        "    for _ in range(k):\n",
        "        nxt = curr.next\n",
        "        curr.next = prev\n",
        "        prev = curr\n",
        "        curr = nxt\n",
        "\n",
        "    head.next = reverse_k_group(curr, k)\n",
        "    return prev\n",
        "\n",
        "# Input\n",
        "values = [1, 2, 3, 4, 5, 6, 7]\n",
        "k = 3\n",
        "head = create_linked_list(values)\n",
        "\n",
        "print(\"Original List:\")\n",
        "print_linked_list(head)\n",
        "\n",
        "head = reverse_k_group(head, k)\n",
        "\n",
        "print(f\"\\nList after reversing in groups of {k}:\")\n",
        "print_linked_list(head)\n"
      ]
    },
    {
      "cell_type": "code",
      "execution_count": null,
      "id": "9d71cc96-80c6-4d3a-9d30-b9abf81593ac",
      "metadata": {
        "trusted": true
      },
      "outputs": [],
      "source": []
    }
  ],
  "metadata": {
    "kernelspec": {
      "display_name": "Python 3.13 (XPython)",
      "language": "python",
      "name": "xpython"
    },
    "language_info": {
      "file_extension": ".py",
      "mimetype": "text/x-python",
      "name": "python",
      "version": "3.13.1"
    }
  },
  "nbformat": 4,
  "nbformat_minor": 5
}
